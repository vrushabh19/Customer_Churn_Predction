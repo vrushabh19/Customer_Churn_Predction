{
 "cells": [
  {
   "cell_type": "markdown",
   "id": "b2cb875a",
   "metadata": {},
   "source": [
    "[![](https://miro.medium.com/max/1400/0*d58iZ6esNNcfntQ7)](#)\n",
    "\n",
    "Source : https://miro.medium.com/max/1400/0*d58iZ6esNNcfntQ7"
   ]
  },
  {
   "cell_type": "markdown",
   "id": "c35cd73c",
   "metadata": {},
   "source": [
    "## What is Customer Churn ?\n",
    "\n",
    "Customer churn or customer attrition is the phenomenon where customers of a business no longer purchase or interact with the business. A high churn means that higher number of customers no longer want to purchase goods and services from the business.\n",
    "\n",
    "## What is Churn Rate?\n",
    "\n",
    "Churn rate is a business metric that calculates the number of customers who leave a product over a given period of time, divided by total remaining customers.\n",
    "\n",
    "For example, if you start your quarter with 400 customers and end with 380, your churn rate is 5% because you lost 5% of your customers."
   ]
  },
  {
   "cell_type": "code",
   "execution_count": 1,
   "id": "color-bosnia",
   "metadata": {},
   "outputs": [],
   "source": [
    "# Importing all required libraries  \n",
    "\n",
    "import numpy as np\n",
    "import pandas as pd\n",
    "import matplotlib.pyplot as plt\n",
    "import seaborn as sns\n",
    "\n",
    "from sklearn.preprocessing import StandardScaler\n",
    "\n",
    "from imblearn.combine import SMOTEENN\n",
    "\n",
    "from sklearn.model_selection import train_test_split, cross_val_score, RandomizedSearchCV\n",
    "\n",
    "from sklearn.linear_model import LogisticRegression\n",
    "from sklearn.neighbors import KNeighborsClassifier\n",
    "from sklearn.tree import DecisionTreeClassifier\n",
    "from sklearn.ensemble import RandomForestClassifier\n",
    "from sklearn.svm import SVC\n",
    "\n",
    "from sklearn.metrics import classification_report, confusion_matrix, accuracy_score, plot_roc_curve"
   ]
  },
  {
   "cell_type": "code",
   "execution_count": 2,
   "id": "mechanical-simulation",
   "metadata": {},
   "outputs": [],
   "source": [
    "pd.set_option('display.max_columns', None)      # These line is used to display all columns \n",
    "\n",
    "sns.set_style('whitegrid')                      # Setting grid for better visualization"
   ]
  },
  {
   "cell_type": "code",
   "execution_count": 3,
   "id": "eastern-virus",
   "metadata": {},
   "outputs": [],
   "source": [
    "# Loading the dataset\n",
    "\n",
    "data = pd.read_csv('Telco-Customer-Churn.csv')"
   ]
  },
  {
   "cell_type": "code",
   "execution_count": 4,
   "id": "oriental-oriental",
   "metadata": {
    "scrolled": true
   },
   "outputs": [
    {
     "data": {
      "text/html": [
       "<div>\n",
       "<style scoped>\n",
       "    .dataframe tbody tr th:only-of-type {\n",
       "        vertical-align: middle;\n",
       "    }\n",
       "\n",
       "    .dataframe tbody tr th {\n",
       "        vertical-align: top;\n",
       "    }\n",
       "\n",
       "    .dataframe thead th {\n",
       "        text-align: right;\n",
       "    }\n",
       "</style>\n",
       "<table border=\"1\" class=\"dataframe\">\n",
       "  <thead>\n",
       "    <tr style=\"text-align: right;\">\n",
       "      <th></th>\n",
       "      <th>customerID</th>\n",
       "      <th>gender</th>\n",
       "      <th>SeniorCitizen</th>\n",
       "      <th>Partner</th>\n",
       "      <th>Dependents</th>\n",
       "      <th>tenure</th>\n",
       "      <th>PhoneService</th>\n",
       "      <th>MultipleLines</th>\n",
       "      <th>InternetService</th>\n",
       "      <th>OnlineSecurity</th>\n",
       "      <th>OnlineBackup</th>\n",
       "      <th>DeviceProtection</th>\n",
       "      <th>TechSupport</th>\n",
       "      <th>StreamingTV</th>\n",
       "      <th>StreamingMovies</th>\n",
       "      <th>Contract</th>\n",
       "      <th>PaperlessBilling</th>\n",
       "      <th>PaymentMethod</th>\n",
       "      <th>MonthlyCharges</th>\n",
       "      <th>TotalCharges</th>\n",
       "      <th>Churn</th>\n",
       "    </tr>\n",
       "  </thead>\n",
       "  <tbody>\n",
       "    <tr>\n",
       "      <th>0</th>\n",
       "      <td>7590-VHVEG</td>\n",
       "      <td>Female</td>\n",
       "      <td>0</td>\n",
       "      <td>Yes</td>\n",
       "      <td>No</td>\n",
       "      <td>1</td>\n",
       "      <td>No</td>\n",
       "      <td>No phone service</td>\n",
       "      <td>DSL</td>\n",
       "      <td>No</td>\n",
       "      <td>Yes</td>\n",
       "      <td>No</td>\n",
       "      <td>No</td>\n",
       "      <td>No</td>\n",
       "      <td>No</td>\n",
       "      <td>Month-to-month</td>\n",
       "      <td>Yes</td>\n",
       "      <td>Electronic check</td>\n",
       "      <td>29.85</td>\n",
       "      <td>29.85</td>\n",
       "      <td>No</td>\n",
       "    </tr>\n",
       "    <tr>\n",
       "      <th>1</th>\n",
       "      <td>5575-GNVDE</td>\n",
       "      <td>Male</td>\n",
       "      <td>0</td>\n",
       "      <td>No</td>\n",
       "      <td>No</td>\n",
       "      <td>34</td>\n",
       "      <td>Yes</td>\n",
       "      <td>No</td>\n",
       "      <td>DSL</td>\n",
       "      <td>Yes</td>\n",
       "      <td>No</td>\n",
       "      <td>Yes</td>\n",
       "      <td>No</td>\n",
       "      <td>No</td>\n",
       "      <td>No</td>\n",
       "      <td>One year</td>\n",
       "      <td>No</td>\n",
       "      <td>Mailed check</td>\n",
       "      <td>56.95</td>\n",
       "      <td>1889.5</td>\n",
       "      <td>No</td>\n",
       "    </tr>\n",
       "    <tr>\n",
       "      <th>2</th>\n",
       "      <td>3668-QPYBK</td>\n",
       "      <td>Male</td>\n",
       "      <td>0</td>\n",
       "      <td>No</td>\n",
       "      <td>No</td>\n",
       "      <td>2</td>\n",
       "      <td>Yes</td>\n",
       "      <td>No</td>\n",
       "      <td>DSL</td>\n",
       "      <td>Yes</td>\n",
       "      <td>Yes</td>\n",
       "      <td>No</td>\n",
       "      <td>No</td>\n",
       "      <td>No</td>\n",
       "      <td>No</td>\n",
       "      <td>Month-to-month</td>\n",
       "      <td>Yes</td>\n",
       "      <td>Mailed check</td>\n",
       "      <td>53.85</td>\n",
       "      <td>108.15</td>\n",
       "      <td>Yes</td>\n",
       "    </tr>\n",
       "    <tr>\n",
       "      <th>3</th>\n",
       "      <td>7795-CFOCW</td>\n",
       "      <td>Male</td>\n",
       "      <td>0</td>\n",
       "      <td>No</td>\n",
       "      <td>No</td>\n",
       "      <td>45</td>\n",
       "      <td>No</td>\n",
       "      <td>No phone service</td>\n",
       "      <td>DSL</td>\n",
       "      <td>Yes</td>\n",
       "      <td>No</td>\n",
       "      <td>Yes</td>\n",
       "      <td>Yes</td>\n",
       "      <td>No</td>\n",
       "      <td>No</td>\n",
       "      <td>One year</td>\n",
       "      <td>No</td>\n",
       "      <td>Bank transfer (automatic)</td>\n",
       "      <td>42.30</td>\n",
       "      <td>1840.75</td>\n",
       "      <td>No</td>\n",
       "    </tr>\n",
       "    <tr>\n",
       "      <th>4</th>\n",
       "      <td>9237-HQITU</td>\n",
       "      <td>Female</td>\n",
       "      <td>0</td>\n",
       "      <td>No</td>\n",
       "      <td>No</td>\n",
       "      <td>2</td>\n",
       "      <td>Yes</td>\n",
       "      <td>No</td>\n",
       "      <td>Fiber optic</td>\n",
       "      <td>No</td>\n",
       "      <td>No</td>\n",
       "      <td>No</td>\n",
       "      <td>No</td>\n",
       "      <td>No</td>\n",
       "      <td>No</td>\n",
       "      <td>Month-to-month</td>\n",
       "      <td>Yes</td>\n",
       "      <td>Electronic check</td>\n",
       "      <td>70.70</td>\n",
       "      <td>151.65</td>\n",
       "      <td>Yes</td>\n",
       "    </tr>\n",
       "  </tbody>\n",
       "</table>\n",
       "</div>"
      ],
      "text/plain": [
       "   customerID  gender  SeniorCitizen Partner Dependents  tenure PhoneService  \\\n",
       "0  7590-VHVEG  Female              0     Yes         No       1           No   \n",
       "1  5575-GNVDE    Male              0      No         No      34          Yes   \n",
       "2  3668-QPYBK    Male              0      No         No       2          Yes   \n",
       "3  7795-CFOCW    Male              0      No         No      45           No   \n",
       "4  9237-HQITU  Female              0      No         No       2          Yes   \n",
       "\n",
       "      MultipleLines InternetService OnlineSecurity OnlineBackup  \\\n",
       "0  No phone service             DSL             No          Yes   \n",
       "1                No             DSL            Yes           No   \n",
       "2                No             DSL            Yes          Yes   \n",
       "3  No phone service             DSL            Yes           No   \n",
       "4                No     Fiber optic             No           No   \n",
       "\n",
       "  DeviceProtection TechSupport StreamingTV StreamingMovies        Contract  \\\n",
       "0               No          No          No              No  Month-to-month   \n",
       "1              Yes          No          No              No        One year   \n",
       "2               No          No          No              No  Month-to-month   \n",
       "3              Yes         Yes          No              No        One year   \n",
       "4               No          No          No              No  Month-to-month   \n",
       "\n",
       "  PaperlessBilling              PaymentMethod  MonthlyCharges TotalCharges  \\\n",
       "0              Yes           Electronic check           29.85        29.85   \n",
       "1               No               Mailed check           56.95       1889.5   \n",
       "2              Yes               Mailed check           53.85       108.15   \n",
       "3               No  Bank transfer (automatic)           42.30      1840.75   \n",
       "4              Yes           Electronic check           70.70       151.65   \n",
       "\n",
       "  Churn  \n",
       "0    No  \n",
       "1    No  \n",
       "2   Yes  \n",
       "3    No  \n",
       "4   Yes  "
      ]
     },
     "execution_count": 4,
     "metadata": {},
     "output_type": "execute_result"
    }
   ],
   "source": [
    "# Check first 5 rows \n",
    "\n",
    "data.head(5)"
   ]
  },
  {
   "cell_type": "markdown",
   "id": "opposite-trash",
   "metadata": {},
   "source": [
    "## Exploratory Data Analysis (EDA)"
   ]
  },
  {
   "cell_type": "code",
   "execution_count": 5,
   "id": "lesser-mailman",
   "metadata": {},
   "outputs": [
    {
     "name": "stdout",
     "output_type": "stream",
     "text": [
      "There are 7043 records & 21 features in the dataset.\n"
     ]
    }
   ],
   "source": [
    "# Check shape of dataset\n",
    "\n",
    "shape = data.shape\n",
    "\n",
    "print('There are {} records & {} features in the dataset.'.format(shape[0], shape[1]))"
   ]
  },
  {
   "cell_type": "code",
   "execution_count": 6,
   "id": "proof-worcester",
   "metadata": {},
   "outputs": [
    {
     "name": "stdout",
     "output_type": "stream",
     "text": [
      "<class 'pandas.core.frame.DataFrame'>\n",
      "RangeIndex: 7043 entries, 0 to 7042\n",
      "Data columns (total 21 columns):\n",
      " #   Column            Non-Null Count  Dtype  \n",
      "---  ------            --------------  -----  \n",
      " 0   customerID        7043 non-null   object \n",
      " 1   gender            7043 non-null   object \n",
      " 2   SeniorCitizen     7043 non-null   int64  \n",
      " 3   Partner           7043 non-null   object \n",
      " 4   Dependents        7043 non-null   object \n",
      " 5   tenure            7043 non-null   int64  \n",
      " 6   PhoneService      7043 non-null   object \n",
      " 7   MultipleLines     7043 non-null   object \n",
      " 8   InternetService   7043 non-null   object \n",
      " 9   OnlineSecurity    7043 non-null   object \n",
      " 10  OnlineBackup      7043 non-null   object \n",
      " 11  DeviceProtection  7043 non-null   object \n",
      " 12  TechSupport       7043 non-null   object \n",
      " 13  StreamingTV       7043 non-null   object \n",
      " 14  StreamingMovies   7043 non-null   object \n",
      " 15  Contract          7043 non-null   object \n",
      " 16  PaperlessBilling  7043 non-null   object \n",
      " 17  PaymentMethod     7043 non-null   object \n",
      " 18  MonthlyCharges    7043 non-null   float64\n",
      " 19  TotalCharges      7043 non-null   object \n",
      " 20  Churn             7043 non-null   object \n",
      "dtypes: float64(1), int64(2), object(18)\n",
      "memory usage: 1.1+ MB\n"
     ]
    }
   ],
   "source": [
    "# Summary of dataset\n",
    "\n",
    "data.info()"
   ]
  },
  {
   "cell_type": "markdown",
   "id": "timely-thumbnail",
   "metadata": {},
   "source": [
    "#### From the dataset we can see there are 17 categorical features & 4 numerical features but from the summary, we can see there are only 3 numerical features."
   ]
  },
  {
   "cell_type": "code",
   "execution_count": 7,
   "id": "sealed-contact",
   "metadata": {
    "scrolled": false
   },
   "outputs": [
    {
     "data": {
      "text/plain": [
       "str"
      ]
     },
     "execution_count": 7,
     "metadata": {},
     "output_type": "execute_result"
    }
   ],
   "source": [
    "# Check type of 'TotalCharges' feature\n",
    "\n",
    "type(data['TotalCharges'][0])"
   ]
  },
  {
   "cell_type": "markdown",
   "id": "visible-shower",
   "metadata": {},
   "source": [
    "#### The 'TotalCharges' is of object datatype but actually, it should be of float datatype. So we will convert it to float."
   ]
  },
  {
   "cell_type": "code",
   "execution_count": 8,
   "id": "collectible-warning",
   "metadata": {},
   "outputs": [],
   "source": [
    "# There are blank spaces in 'TotalCharges' so we will first convert it to NaN & then to float\n",
    "\n",
    "data['TotalCharges'] = np.where(data['TotalCharges']==' ', np.nan, data['TotalCharges'])   # Conveting blank space to NaN\n",
    "\n",
    "data['TotalCharges'] = data['TotalCharges'].apply(lambda x: float(x))   # Convrting object datatype to float "
   ]
  },
  {
   "cell_type": "code",
   "execution_count": 9,
   "id": "outside-absence",
   "metadata": {},
   "outputs": [
    {
     "data": {
      "text/html": [
       "<div>\n",
       "<style scoped>\n",
       "    .dataframe tbody tr th:only-of-type {\n",
       "        vertical-align: middle;\n",
       "    }\n",
       "\n",
       "    .dataframe tbody tr th {\n",
       "        vertical-align: top;\n",
       "    }\n",
       "\n",
       "    .dataframe thead th {\n",
       "        text-align: right;\n",
       "    }\n",
       "</style>\n",
       "<table border=\"1\" class=\"dataframe\">\n",
       "  <thead>\n",
       "    <tr style=\"text-align: right;\">\n",
       "      <th></th>\n",
       "      <th>SeniorCitizen</th>\n",
       "      <th>tenure</th>\n",
       "      <th>MonthlyCharges</th>\n",
       "      <th>TotalCharges</th>\n",
       "    </tr>\n",
       "  </thead>\n",
       "  <tbody>\n",
       "    <tr>\n",
       "      <th>count</th>\n",
       "      <td>7043.000000</td>\n",
       "      <td>7043.000000</td>\n",
       "      <td>7043.000000</td>\n",
       "      <td>7032.000000</td>\n",
       "    </tr>\n",
       "    <tr>\n",
       "      <th>mean</th>\n",
       "      <td>0.162147</td>\n",
       "      <td>32.371149</td>\n",
       "      <td>64.761692</td>\n",
       "      <td>2283.300441</td>\n",
       "    </tr>\n",
       "    <tr>\n",
       "      <th>std</th>\n",
       "      <td>0.368612</td>\n",
       "      <td>24.559481</td>\n",
       "      <td>30.090047</td>\n",
       "      <td>2266.771362</td>\n",
       "    </tr>\n",
       "    <tr>\n",
       "      <th>min</th>\n",
       "      <td>0.000000</td>\n",
       "      <td>0.000000</td>\n",
       "      <td>18.250000</td>\n",
       "      <td>18.800000</td>\n",
       "    </tr>\n",
       "    <tr>\n",
       "      <th>25%</th>\n",
       "      <td>0.000000</td>\n",
       "      <td>9.000000</td>\n",
       "      <td>35.500000</td>\n",
       "      <td>401.450000</td>\n",
       "    </tr>\n",
       "    <tr>\n",
       "      <th>50%</th>\n",
       "      <td>0.000000</td>\n",
       "      <td>29.000000</td>\n",
       "      <td>70.350000</td>\n",
       "      <td>1397.475000</td>\n",
       "    </tr>\n",
       "    <tr>\n",
       "      <th>75%</th>\n",
       "      <td>0.000000</td>\n",
       "      <td>55.000000</td>\n",
       "      <td>89.850000</td>\n",
       "      <td>3794.737500</td>\n",
       "    </tr>\n",
       "    <tr>\n",
       "      <th>max</th>\n",
       "      <td>1.000000</td>\n",
       "      <td>72.000000</td>\n",
       "      <td>118.750000</td>\n",
       "      <td>8684.800000</td>\n",
       "    </tr>\n",
       "  </tbody>\n",
       "</table>\n",
       "</div>"
      ],
      "text/plain": [
       "       SeniorCitizen       tenure  MonthlyCharges  TotalCharges\n",
       "count    7043.000000  7043.000000     7043.000000   7032.000000\n",
       "mean        0.162147    32.371149       64.761692   2283.300441\n",
       "std         0.368612    24.559481       30.090047   2266.771362\n",
       "min         0.000000     0.000000       18.250000     18.800000\n",
       "25%         0.000000     9.000000       35.500000    401.450000\n",
       "50%         0.000000    29.000000       70.350000   1397.475000\n",
       "75%         0.000000    55.000000       89.850000   3794.737500\n",
       "max         1.000000    72.000000      118.750000   8684.800000"
      ]
     },
     "execution_count": 9,
     "metadata": {},
     "output_type": "execute_result"
    }
   ],
   "source": [
    "# Check Descriptive Stats\n",
    "\n",
    "data.describe()"
   ]
  },
  {
   "cell_type": "code",
   "execution_count": 10,
   "id": "south-pioneer",
   "metadata": {
    "scrolled": false
   },
   "outputs": [
    {
     "data": {
      "text/plain": [
       "customerID           0\n",
       "gender               0\n",
       "SeniorCitizen        0\n",
       "Partner              0\n",
       "Dependents           0\n",
       "tenure               0\n",
       "PhoneService         0\n",
       "MultipleLines        0\n",
       "InternetService      0\n",
       "OnlineSecurity       0\n",
       "OnlineBackup         0\n",
       "DeviceProtection     0\n",
       "TechSupport          0\n",
       "StreamingTV          0\n",
       "StreamingMovies      0\n",
       "Contract             0\n",
       "PaperlessBilling     0\n",
       "PaymentMethod        0\n",
       "MonthlyCharges       0\n",
       "TotalCharges        11\n",
       "Churn                0\n",
       "dtype: int64"
      ]
     },
     "execution_count": 10,
     "metadata": {},
     "output_type": "execute_result"
    }
   ],
   "source": [
    "# Check null values\n",
    "\n",
    "data.isnull().sum()"
   ]
  },
  {
   "cell_type": "code",
   "execution_count": 11,
   "id": "swedish-bicycle",
   "metadata": {},
   "outputs": [],
   "source": [
    "# Replacing null values\n",
    "\n",
    "median = data['TotalCharges'].median()                           # Get median value of 'TotalCharges' feature\n",
    "\n",
    "data['TotalCharges'] = np.where(data['TotalCharges'].isnull(), 0, data['TotalCharges'])       # Replace NaN with median"
   ]
  },
  {
   "cell_type": "code",
   "execution_count": 12,
   "id": "spanish-tribe",
   "metadata": {},
   "outputs": [
    {
     "data": {
      "text/plain": [
       "customerID          0\n",
       "gender              0\n",
       "SeniorCitizen       0\n",
       "Partner             0\n",
       "Dependents          0\n",
       "tenure              0\n",
       "PhoneService        0\n",
       "MultipleLines       0\n",
       "InternetService     0\n",
       "OnlineSecurity      0\n",
       "OnlineBackup        0\n",
       "DeviceProtection    0\n",
       "TechSupport         0\n",
       "StreamingTV         0\n",
       "StreamingMovies     0\n",
       "Contract            0\n",
       "PaperlessBilling    0\n",
       "PaymentMethod       0\n",
       "MonthlyCharges      0\n",
       "TotalCharges        0\n",
       "Churn               0\n",
       "dtype: int64"
      ]
     },
     "execution_count": 12,
     "metadata": {},
     "output_type": "execute_result"
    }
   ],
   "source": [
    "# Check null values after replacing\n",
    "\n",
    "data.isnull().sum()"
   ]
  },
  {
   "cell_type": "code",
   "execution_count": 13,
   "id": "concerned-amino",
   "metadata": {},
   "outputs": [
    {
     "name": "stdout",
     "output_type": "stream",
     "text": [
      "\n",
      "Number of unique values in gender : 2\n",
      "\n",
      "Unique values : ['Female' 'Male']\n",
      "\n",
      "----------------------------------------------------------------------------------------------------\n",
      "\n",
      "Number of unique values in Partner : 2\n",
      "\n",
      "Unique values : ['Yes' 'No']\n",
      "\n",
      "----------------------------------------------------------------------------------------------------\n",
      "\n",
      "Number of unique values in Dependents : 2\n",
      "\n",
      "Unique values : ['No' 'Yes']\n",
      "\n",
      "----------------------------------------------------------------------------------------------------\n",
      "\n",
      "Number of unique values in PhoneService : 2\n",
      "\n",
      "Unique values : ['No' 'Yes']\n",
      "\n",
      "----------------------------------------------------------------------------------------------------\n",
      "\n",
      "Number of unique values in MultipleLines : 3\n",
      "\n",
      "Unique values : ['No phone service' 'No' 'Yes']\n",
      "\n",
      "----------------------------------------------------------------------------------------------------\n",
      "\n",
      "Number of unique values in InternetService : 3\n",
      "\n",
      "Unique values : ['DSL' 'Fiber optic' 'No']\n",
      "\n",
      "----------------------------------------------------------------------------------------------------\n",
      "\n",
      "Number of unique values in OnlineSecurity : 3\n",
      "\n",
      "Unique values : ['No' 'Yes' 'No internet service']\n",
      "\n",
      "----------------------------------------------------------------------------------------------------\n",
      "\n",
      "Number of unique values in OnlineBackup : 3\n",
      "\n",
      "Unique values : ['Yes' 'No' 'No internet service']\n",
      "\n",
      "----------------------------------------------------------------------------------------------------\n",
      "\n",
      "Number of unique values in DeviceProtection : 3\n",
      "\n",
      "Unique values : ['No' 'Yes' 'No internet service']\n",
      "\n",
      "----------------------------------------------------------------------------------------------------\n",
      "\n",
      "Number of unique values in TechSupport : 3\n",
      "\n",
      "Unique values : ['No' 'Yes' 'No internet service']\n",
      "\n",
      "----------------------------------------------------------------------------------------------------\n",
      "\n",
      "Number of unique values in StreamingTV : 3\n",
      "\n",
      "Unique values : ['No' 'Yes' 'No internet service']\n",
      "\n",
      "----------------------------------------------------------------------------------------------------\n",
      "\n",
      "Number of unique values in StreamingMovies : 3\n",
      "\n",
      "Unique values : ['No' 'Yes' 'No internet service']\n",
      "\n",
      "----------------------------------------------------------------------------------------------------\n",
      "\n",
      "Number of unique values in Contract : 3\n",
      "\n",
      "Unique values : ['Month-to-month' 'One year' 'Two year']\n",
      "\n",
      "----------------------------------------------------------------------------------------------------\n",
      "\n",
      "Number of unique values in PaperlessBilling : 2\n",
      "\n",
      "Unique values : ['Yes' 'No']\n",
      "\n",
      "----------------------------------------------------------------------------------------------------\n",
      "\n",
      "Number of unique values in PaymentMethod : 4\n",
      "\n",
      "Unique values : ['Electronic check' 'Mailed check' 'Bank transfer (automatic)'\n",
      " 'Credit card (automatic)']\n",
      "\n",
      "----------------------------------------------------------------------------------------------------\n",
      "\n",
      "Number of unique values in Churn : 2\n",
      "\n",
      "Unique values : ['No' 'Yes']\n",
      "\n",
      "----------------------------------------------------------------------------------------------------\n"
     ]
    }
   ],
   "source": [
    "cat_list = [i for i in data.columns if data[i].dtype == 'O' and i != 'customerID']\n",
    "\n",
    "for i in cat_list:\n",
    "    print('\\nNumber of unique values in '+ i +' :',data[i].nunique())\n",
    "    print()\n",
    "    print('Unique values :', data[i].unique())\n",
    "    print()\n",
    "    print('-'*100)"
   ]
  },
  {
   "cell_type": "markdown",
   "id": "portuguese-acting",
   "metadata": {},
   "source": [
    "### Univariate Analysis\n",
    "\n",
    "Uni means one and variate means variable, so in univariate analysis, there is only one variable. The objective of univariate analysis is to derive the data, define and summarize it, and analyze the pattern present in it. "
   ]
  },
  {
   "cell_type": "code",
   "execution_count": 14,
   "id": "competent-occurrence",
   "metadata": {
    "scrolled": false
   },
   "outputs": [
    {
     "data": {
      "image/png": "[encoded data removed]",
      "text/plain": [
       "<Figure size 576x576 with 1 Axes>"
      ]
     },
     "metadata": {},
     "output_type": "display_data"
    },
    {
     "name": "stdout",
     "output_type": "stream",
     "text": [
      "No     73.463013\n",
      "Yes    26.536987\n",
      "Name: Churn, dtype: float64\n"
     ]
    }
   ],
   "source": [
    "target = data['Churn'].value_counts()/len(data)*100\n",
    "\n",
    "plt.figure(figsize = (8, 8))\n",
    "plt.pie(x = target.values, labels = target.keys(), explode = [0, 0.05], autopct='%1.1f%%', shadow = True, textprops = dict(color = 'black', size = 16), colors =  ['skyblue','lightcoral'], pctdistance = 0.5)\n",
    "plt.legend(title = 'Customer Churn', loc = 'lower left')\n",
    "plt.title('Count of Customer Churn', fontsize = 20)\n",
    "plt.show()\n",
    "\n",
    "print(target)"
   ]
  },
  {
   "cell_type": "markdown",
   "id": "flexible-criticism",
   "metadata": {},
   "source": [
    "#### The count of customers who churned is less than customers who don't. Out of 7043 customers, 73% didn't churn & 27% customers churned."
   ]
  },
  {
   "cell_type": "code",
   "execution_count": 15,
   "id": "several-hungary",
   "metadata": {},
   "outputs": [
    {
     "data": {
      "image/png": "[encoded data removed]",
      "text/plain": [
       "<Figure size 864x432 with 1 Axes>"
      ]
     },
     "metadata": {},
     "output_type": "display_data"
    }
   ],
   "source": [
    "plt.figure(figsize = (12, 6))\n",
    "sns.histplot(x = data['tenure'])\n",
    "plt.xticks(fontsize = 11)\n",
    "plt.yticks(fontsize = 11)\n",
    "plt.xlabel('Tenure', fontsize = 14)\n",
    "plt.ylabel('Count', fontsize = 14)\n",
    "plt.show()"
   ]
  },
  {
   "cell_type": "code",
   "execution_count": 16,
   "id": "surgical-ordinary",
   "metadata": {
    "scrolled": false
   },
   "outputs": [
    {
     "data": {
      "image/png": "[encoded data removed]",
      "text/plain": [
       "<Figure size 864x432 with 1 Axes>"
      ]
     },
     "metadata": {},
     "output_type": "display_data"
    }
   ],
   "source": [
    "plt.figure(figsize = (12, 6))\n",
    "sns.histplot(x = data['MonthlyCharges'], color = '#e69900')\n",
    "plt.xticks(fontsize = 11)\n",
    "plt.yticks(fontsize = 11)\n",
    "plt.xlabel('Monthly Charges', fontsize = 14)\n",
    "plt.ylabel('Count', fontsize = 14)\n",
    "plt.show()"
   ]
  },
  {
   "cell_type": "code",
   "execution_count": 17,
   "id": "suburban-candidate",
   "metadata": {
    "scrolled": false
   },
   "outputs": [
    {
     "data": {
      "image/png": "[encoded data removed]",
      "text/plain": [
       "<Figure size 864x432 with 1 Axes>"
      ]
     },
     "metadata": {},
     "output_type": "display_data"
    }
   ],
   "source": [
    "plt.figure(figsize = (12, 6))\n",
    "sns.histplot(x = data['TotalCharges'], color = '#bf8040')\n",
    "plt.xticks(fontsize = 11)\n",
    "plt.yticks(fontsize = 11)\n",
    "plt.xlabel('Total Charges', fontsize = 14)\n",
    "plt.ylabel('Count', fontsize = 14)\n",
    "plt.show()"
   ]
  },
  {
   "cell_type": "code",
   "execution_count": 18,
   "id": "expensive-dynamics",
   "metadata": {},
   "outputs": [
    {
     "data": {
      "image/png": "[encoded data removed]",
      "text/plain": [
       "<Figure size 864x432 with 1 Axes>"
      ]
     },
     "metadata": {},
     "output_type": "display_data"
    },
    {
     "name": "stdout",
     "output_type": "stream",
     "text": [
      "\n",
      "0    83.785319\n",
      "1    16.214681\n",
      "Name: SeniorCitizen, dtype: float64\n"
     ]
    }
   ],
   "source": [
    "senior = data['SeniorCitizen'].value_counts()/data['SeniorCitizen'].value_counts().sum()*100\n",
    "\n",
    "plt.figure(figsize = (12, 6))\n",
    "sns.barplot(data = data, x = senior.keys(), y = senior.values, palette= ['#264d73', '#6699cc'])\n",
    "plt.xticks(fontsize = 13)\n",
    "plt.yticks(fontsize = 13)\n",
    "plt.title('Count Of Senior Citizen', fontsize = 18)\n",
    "plt.show()\n",
    "\n",
    "print()\n",
    "print(senior)"
   ]
  },
  {
   "cell_type": "markdown",
   "id": "suffering-abraham",
   "metadata": {},
   "source": [
    "#### Around 84% of customers out of 7043 has age less than 65  & only 16% of customers are having age more than 65."
   ]
  },
  {
   "cell_type": "code",
   "execution_count": 19,
   "id": "detailed-mining",
   "metadata": {},
   "outputs": [
    {
     "data": {
      "image/png": "[encoded data removed]",
      "text/plain": [
       "<Figure size 864x432 with 1 Axes>"
      ]
     },
     "metadata": {},
     "output_type": "display_data"
    },
    {
     "name": "stdout",
     "output_type": "stream",
     "text": [
      "\n",
      "Fiber optic    43.958540\n",
      "DSL            34.374556\n",
      "No             21.666903\n",
      "Name: InternetService, dtype: float64\n"
     ]
    }
   ],
   "source": [
    "internet_sevice = data['InternetService'].value_counts()/len(data)*100\n",
    "\n",
    "plt.figure(figsize = (12, 6))\n",
    "sns.barplot(data = data, x = internet_sevice.keys(), y = internet_sevice.values, palette = 'Oranges_r')\n",
    "plt.xticks(fontsize = 13)\n",
    "plt.yticks(fontsize = 13)\n",
    "plt.title('Count Of Internet Service', fontsize = 18)\n",
    "plt.show()\n",
    "\n",
    "print()\n",
    "print(internet_sevice)"
   ]
  },
  {
   "cell_type": "markdown",
   "id": "cosmetic-toilet",
   "metadata": {},
   "source": [
    "#### Around 44% of customers out of 7043 has internet service as 'Fiber optic' & 34% customers has 'DSL' internet service & remaining 22% customers do not has internet service."
   ]
  },
  {
   "cell_type": "code",
   "execution_count": 20,
   "id": "expanded-mississippi",
   "metadata": {
    "scrolled": false
   },
   "outputs": [
    {
     "data": {
      "image/png": "[encoded data removed]",
      "text/plain": [
       "<Figure size 864x432 with 1 Axes>"
      ]
     },
     "metadata": {},
     "output_type": "display_data"
    },
    {
     "name": "stdout",
     "output_type": "stream",
     "text": [
      "\n",
      "Electronic check             33.579441\n",
      "Mailed check                 22.887974\n",
      "Bank transfer (automatic)    21.922476\n",
      "Credit card (automatic)      21.610109\n",
      "Name: PaymentMethod, dtype: float64\n"
     ]
    }
   ],
   "source": [
    "pay = data['PaymentMethod'].value_counts()/len(data)*100\n",
    "\n",
    "plt.figure(figsize = (12, 6))\n",
    "sns.barplot(data = data, x = pay.keys(), y = pay.values, palette = 'ocean')\n",
    "plt.title('Count Of Payment Method', fontsize = 18)\n",
    "plt.xticks(fontsize = 13)\n",
    "plt.yticks(fontsize = 13)\n",
    "plt.show()\n",
    "\n",
    "print()\n",
    "print(pay)"
   ]
  },
  {
   "cell_type": "markdown",
   "id": "mature-twist",
   "metadata": {},
   "source": [
    "#### Out of 7043 customers 34% customers pay via 'Electronic check' & 23% customers pay via 'Mailed check' & remaining 43% customers pay via 'Bank transfer' or 'Credit card'. "
   ]
  },
  {
   "cell_type": "code",
   "execution_count": 21,
   "id": "corporate-democrat",
   "metadata": {},
   "outputs": [
    {
     "data": {
      "image/png": "[encoded data removed]",
      "text/plain": [
       "<Figure size 864x432 with 1 Axes>"
      ]
     },
     "metadata": {},
     "output_type": "display_data"
    },
    {
     "name": "stdout",
     "output_type": "stream",
     "text": [
      "\n",
      "Month-to-month    55.019168\n",
      "Two year          24.066449\n",
      "One year          20.914383\n",
      "Name: Contract, dtype: float64\n"
     ]
    }
   ],
   "source": [
    "contract = data['Contract'].value_counts()/len(data)*100\n",
    "\n",
    "plt.figure(figsize = (12, 6))\n",
    "sns.barplot(data = data, x = contract.keys(), y = contract.values, palette = 'hsv')\n",
    "plt.title('Count Of Contract', fontsize = 18)\n",
    "plt.xticks(fontsize = 13)\n",
    "plt.yticks(np.arange(0,70,10),fontsize = 13)\n",
    "plt.show()\n",
    "\n",
    "print()\n",
    "print(contract)"
   ]
  },
  {
   "cell_type": "markdown",
   "id": "nominated-sender",
   "metadata": {},
   "source": [
    "#### Out of 7043 customers, 55% of customers has a 'Month-to-Month' contract & 24% customers have 'Two-year' contract & remaining 21% customers has 'One-year' contract. "
   ]
  },
  {
   "cell_type": "markdown",
   "id": "republican-southeast",
   "metadata": {},
   "source": [
    "### Bivariate Analysis\n",
    "\n",
    "Bi means two and variate means variable, so here there are two variables. The analysis is related to cause and the relationship between the two variables."
   ]
  },
  {
   "cell_type": "code",
   "execution_count": 22,
   "id": "postal-equity",
   "metadata": {},
   "outputs": [
    {
     "data": {
      "image/png": "[encoded data removed]",
      "text/plain": [
       "<Figure size 864x432 with 1 Axes>"
      ]
     },
     "metadata": {},
     "output_type": "display_data"
    },
    {
     "name": "stdout",
     "output_type": "stream",
     "text": [
      "\n",
      "InternetService\n",
      "DSL            58.102169\n",
      "Fiber optic    91.500129\n",
      "No             21.079194\n",
      "Name: MonthlyCharges, dtype: float64\n"
     ]
    }
   ],
   "source": [
    "internet_mon_charges = data.groupby('InternetService')['MonthlyCharges'].mean()\n",
    "\n",
    "plt.figure(figsize = (12, 6))\n",
    "sns.barplot(data = data, x = internet_mon_charges.keys(), y = internet_mon_charges.values, palette = 'Dark2')\n",
    "plt.title('Monthly Charges of Internet Service', fontsize = 18)\n",
    "plt.xlabel('Internet Service',fontsize = 14)\n",
    "plt.ylabel('Charges',fontsize = 14)\n",
    "plt.xticks(fontsize = 13)\n",
    "plt.yticks(np.arange(0,100,10), fontsize = 13)\n",
    "plt.show()\n",
    "\n",
    "print()\n",
    "print(internet_mon_charges)"
   ]
  },
  {
   "cell_type": "markdown",
   "id": "another-maker",
   "metadata": {},
   "source": [
    "#### The average monthly charge for 'Fiber Optic' internet service is more as compared to other services. \n",
    "\n",
    "#### The average monthly charge for  'Fiber Optic' internet service is 91.50 & for 'DSL' monthly charge is '58.10'."
   ]
  },
  {
   "cell_type": "code",
   "execution_count": 23,
   "id": "revolutionary-supplier",
   "metadata": {
    "scrolled": false
   },
   "outputs": [
    {
     "data": {
      "image/png": "[encoded data removed]",
      "text/plain": [
       "<Figure size 864x432 with 1 Axes>"
      ]
     },
     "metadata": {},
     "output_type": "display_data"
    },
    {
     "name": "stdout",
     "output_type": "stream",
     "text": [
      "\n",
      "InternetService\n",
      "DSL            2115.411338\n",
      "Fiber optic    3205.304570\n",
      "No              662.604784\n",
      "Name: TotalCharges, dtype: float64\n"
     ]
    }
   ],
   "source": [
    "internet_tot_charges = data.groupby('InternetService')['TotalCharges'].mean()\n",
    "\n",
    "plt.figure(figsize = (12, 6))\n",
    "sns.barplot(data = data, x = internet_tot_charges.keys(), y = internet_tot_charges.values, palette = 'rocket')\n",
    "plt.title('Total Charges of Internet Service', fontsize = 18)\n",
    "plt.xlabel('Internet Service',fontsize = 14)\n",
    "plt.ylabel('Charges',fontsize = 14)\n",
    "plt.xticks(fontsize = 13)\n",
    "plt.yticks(np.arange(0,4000,500), fontsize = 13)\n",
    "plt.show()\n",
    "\n",
    "print()\n",
    "print(internet_tot_charges)"
   ]
  },
  {
   "cell_type": "markdown",
   "id": "equipped-christopher",
   "metadata": {},
   "source": [
    "#### The average monthly charge for 'Fiber Optic' internet service is more as compared to other services. \n",
    "\n",
    "#### The average monthly charge for  'Fiber Optic' internet service is '3205.30' & for 'DSL' service monthly charge is ' 2118.29'."
   ]
  },
  {
   "cell_type": "code",
   "execution_count": 24,
   "id": "endless-recruitment",
   "metadata": {
    "scrolled": false
   },
   "outputs": [
    {
     "data": {
      "image/png": "[encoded data removed]",
      "text/plain": [
       "<Figure size 864x432 with 1 Axes>"
      ]
     },
     "metadata": {},
     "output_type": "display_data"
    },
    {
     "name": "stdout",
     "output_type": "stream",
     "text": [
      "\n"
     ]
    },
    {
     "data": {
      "text/html": [
       "<div>\n",
       "<style scoped>\n",
       "    .dataframe tbody tr th:only-of-type {\n",
       "        vertical-align: middle;\n",
       "    }\n",
       "\n",
       "    .dataframe tbody tr th {\n",
       "        vertical-align: top;\n",
       "    }\n",
       "\n",
       "    .dataframe thead th {\n",
       "        text-align: right;\n",
       "    }\n",
       "</style>\n",
       "<table border=\"1\" class=\"dataframe\">\n",
       "  <thead>\n",
       "    <tr style=\"text-align: right;\">\n",
       "      <th>Churn</th>\n",
       "      <th>No</th>\n",
       "      <th>Yes</th>\n",
       "    </tr>\n",
       "    <tr>\n",
       "      <th>SeniorCitizen</th>\n",
       "      <th></th>\n",
       "      <th></th>\n",
       "    </tr>\n",
       "  </thead>\n",
       "  <tbody>\n",
       "    <tr>\n",
       "      <th>0</th>\n",
       "      <td>76.393832</td>\n",
       "      <td>23.606168</td>\n",
       "    </tr>\n",
       "    <tr>\n",
       "      <th>1</th>\n",
       "      <td>58.318739</td>\n",
       "      <td>41.681261</td>\n",
       "    </tr>\n",
       "  </tbody>\n",
       "</table>\n",
       "</div>"
      ],
      "text/plain": [
       "Churn                 No        Yes\n",
       "SeniorCitizen                      \n",
       "0              76.393832  23.606168\n",
       "1              58.318739  41.681261"
      ]
     },
     "execution_count": 24,
     "metadata": {},
     "output_type": "execute_result"
    }
   ],
   "source": [
    "senior_churn = (data.groupby(['SeniorCitizen','Churn'])['customerID'].count()/data.groupby(['SeniorCitizen'])['Churn'].count()*100).unstack()\n",
    "\n",
    "senior_churn.plot(kind = 'bar', figsize = (12, 6), stacked = True, color = ['darkcyan', 'orange'])\n",
    "plt.xlabel('Senior Citizen',fontsize = 16)\n",
    "plt.ylabel('Count in %',fontsize = 16)\n",
    "plt.xticks(rotation=0, fontsize = 13)\n",
    "plt.yticks(fontsize = 13)\n",
    "plt.legend(title = 'Churn', fontsize = 12, title_fontsize = 13, shadow = True)\n",
    "plt.show()\n",
    "\n",
    "print()\n",
    "senior_churn"
   ]
  },
  {
   "cell_type": "markdown",
   "id": "ordinary-cache",
   "metadata": {},
   "source": [
    "#### We can see senior citizens churned the most. Out of 1142 senior citizen customers, 42% of customers were churned."
   ]
  },
  {
   "cell_type": "code",
   "execution_count": 25,
   "id": "least-documentation",
   "metadata": {},
   "outputs": [
    {
     "data": {
      "image/png": "[encoded data removed]",
      "text/plain": [
       "<Figure size 864x432 with 1 Axes>"
      ]
     },
     "metadata": {},
     "output_type": "display_data"
    },
    {
     "name": "stdout",
     "output_type": "stream",
     "text": [
      "\n"
     ]
    },
    {
     "data": {
      "text/html": [
       "<div>\n",
       "<style scoped>\n",
       "    .dataframe tbody tr th:only-of-type {\n",
       "        vertical-align: middle;\n",
       "    }\n",
       "\n",
       "    .dataframe tbody tr th {\n",
       "        vertical-align: top;\n",
       "    }\n",
       "\n",
       "    .dataframe thead th {\n",
       "        text-align: right;\n",
       "    }\n",
       "</style>\n",
       "<table border=\"1\" class=\"dataframe\">\n",
       "  <thead>\n",
       "    <tr style=\"text-align: right;\">\n",
       "      <th>Churn</th>\n",
       "      <th>No</th>\n",
       "      <th>Yes</th>\n",
       "    </tr>\n",
       "    <tr>\n",
       "      <th>InternetService</th>\n",
       "      <th></th>\n",
       "      <th></th>\n",
       "    </tr>\n",
       "  </thead>\n",
       "  <tbody>\n",
       "    <tr>\n",
       "      <th>DSL</th>\n",
       "      <td>81.040892</td>\n",
       "      <td>18.959108</td>\n",
       "    </tr>\n",
       "    <tr>\n",
       "      <th>Fiber optic</th>\n",
       "      <td>58.107235</td>\n",
       "      <td>41.892765</td>\n",
       "    </tr>\n",
       "    <tr>\n",
       "      <th>No</th>\n",
       "      <td>92.595020</td>\n",
       "      <td>7.404980</td>\n",
       "    </tr>\n",
       "  </tbody>\n",
       "</table>\n",
       "</div>"
      ],
      "text/plain": [
       "Churn                   No        Yes\n",
       "InternetService                      \n",
       "DSL              81.040892  18.959108\n",
       "Fiber optic      58.107235  41.892765\n",
       "No               92.595020   7.404980"
      ]
     },
     "execution_count": 25,
     "metadata": {},
     "output_type": "execute_result"
    }
   ],
   "source": [
    "internet_churn = (data.groupby(['InternetService','Churn'])['TotalCharges'].count()/data.groupby(['InternetService'])['Churn'].count()*100).unstack()\n",
    "\n",
    "#plt.figure(figsize = (12, 6))\n",
    "internet_churn.plot(kind = 'bar', figsize = (12, 6), stacked = True, color = ['#1f3d7a', 'lightblue'])\n",
    "plt.xlabel('Internet Service',fontsize = 16)\n",
    "plt.ylabel('Count in %',fontsize = 16)\n",
    "plt.xticks(np.arange(0,4), rotation=0, fontsize = 13)\n",
    "plt.yticks(fontsize = 13)\n",
    "plt.legend(title = 'Churn', fontsize = 12, title_fontsize = 13, shadow = True)\n",
    "plt.show()\n",
    "\n",
    "print()\n",
    "internet_churn"
   ]
  },
  {
   "cell_type": "markdown",
   "id": "ethical-frank",
   "metadata": {},
   "source": [
    "#### Most customers who left were using 'Fiber Optic' internet service. 42% out of 3096 customers churned who were using 'Fiber Optic' service."
   ]
  },
  {
   "cell_type": "code",
   "execution_count": 26,
   "id": "cutting-newman",
   "metadata": {},
   "outputs": [
    {
     "data": {
      "image/png": "[encoded data removed]",
      "text/plain": [
       "<Figure size 864x432 with 1 Axes>"
      ]
     },
     "metadata": {},
     "output_type": "display_data"
    },
    {
     "name": "stdout",
     "output_type": "stream",
     "text": [
      "\n"
     ]
    },
    {
     "data": {
      "text/html": [
       "<div>\n",
       "<style scoped>\n",
       "    .dataframe tbody tr th:only-of-type {\n",
       "        vertical-align: middle;\n",
       "    }\n",
       "\n",
       "    .dataframe tbody tr th {\n",
       "        vertical-align: top;\n",
       "    }\n",
       "\n",
       "    .dataframe thead th {\n",
       "        text-align: right;\n",
       "    }\n",
       "</style>\n",
       "<table border=\"1\" class=\"dataframe\">\n",
       "  <thead>\n",
       "    <tr style=\"text-align: right;\">\n",
       "      <th>Churn</th>\n",
       "      <th>No</th>\n",
       "      <th>Yes</th>\n",
       "    </tr>\n",
       "    <tr>\n",
       "      <th>PaymentMethod</th>\n",
       "      <th></th>\n",
       "      <th></th>\n",
       "    </tr>\n",
       "  </thead>\n",
       "  <tbody>\n",
       "    <tr>\n",
       "      <th>Bank transfer (automatic)</th>\n",
       "      <td>83.290155</td>\n",
       "      <td>16.709845</td>\n",
       "    </tr>\n",
       "    <tr>\n",
       "      <th>Credit card (automatic)</th>\n",
       "      <td>84.756899</td>\n",
       "      <td>15.243101</td>\n",
       "    </tr>\n",
       "    <tr>\n",
       "      <th>Electronic check</th>\n",
       "      <td>54.714588</td>\n",
       "      <td>45.285412</td>\n",
       "    </tr>\n",
       "    <tr>\n",
       "      <th>Mailed check</th>\n",
       "      <td>80.893300</td>\n",
       "      <td>19.106700</td>\n",
       "    </tr>\n",
       "  </tbody>\n",
       "</table>\n",
       "</div>"
      ],
      "text/plain": [
       "Churn                             No        Yes\n",
       "PaymentMethod                                  \n",
       "Bank transfer (automatic)  83.290155  16.709845\n",
       "Credit card (automatic)    84.756899  15.243101\n",
       "Electronic check           54.714588  45.285412\n",
       "Mailed check               80.893300  19.106700"
      ]
     },
     "execution_count": 26,
     "metadata": {},
     "output_type": "execute_result"
    }
   ],
   "source": [
    "pay_churn = (data.groupby(['PaymentMethod','Churn'])['TotalCharges'].count()/data.groupby(['PaymentMethod'])['Churn'].count()*100).unstack()\n",
    "\n",
    "#plt.figure(figsize = (12, 6))\n",
    "pay_churn.plot(kind = 'bar', figsize = (12, 6), stacked = True, color = ['#862d86', '#ff6666'])\n",
    "plt.xlabel('Payment Method',fontsize = 16)\n",
    "plt.ylabel('Count in %',fontsize = 16)\n",
    "plt.xticks(np.arange(0,5), rotation = 20, fontsize = 13)\n",
    "plt.yticks(fontsize = 13)\n",
    "plt.legend(title = 'Churn', fontsize = 12, title_fontsize = 13, shadow = True)\n",
    "plt.show()\n",
    "\n",
    "print()\n",
    "pay_churn"
   ]
  },
  {
   "cell_type": "markdown",
   "id": "fuzzy-cause",
   "metadata": {},
   "source": [
    "#### Most customers who left used to pay via 'Electronic check'. 45% out of 2365 customers churned who used to pay via 'Electronic check'."
   ]
  },
  {
   "cell_type": "code",
   "execution_count": 27,
   "id": "proof-terrain",
   "metadata": {},
   "outputs": [
    {
     "data": {
      "image/png": "[encoded data removed]",
      "text/plain": [
       "<Figure size 864x432 with 1 Axes>"
      ]
     },
     "metadata": {},
     "output_type": "display_data"
    },
    {
     "name": "stdout",
     "output_type": "stream",
     "text": [
      "\n"
     ]
    },
    {
     "data": {
      "text/html": [
       "<div>\n",
       "<style scoped>\n",
       "    .dataframe tbody tr th:only-of-type {\n",
       "        vertical-align: middle;\n",
       "    }\n",
       "\n",
       "    .dataframe tbody tr th {\n",
       "        vertical-align: top;\n",
       "    }\n",
       "\n",
       "    .dataframe thead th {\n",
       "        text-align: right;\n",
       "    }\n",
       "</style>\n",
       "<table border=\"1\" class=\"dataframe\">\n",
       "  <thead>\n",
       "    <tr style=\"text-align: right;\">\n",
       "      <th>Churn</th>\n",
       "      <th>No</th>\n",
       "      <th>Yes</th>\n",
       "    </tr>\n",
       "    <tr>\n",
       "      <th>Contract</th>\n",
       "      <th></th>\n",
       "      <th></th>\n",
       "    </tr>\n",
       "  </thead>\n",
       "  <tbody>\n",
       "    <tr>\n",
       "      <th>Month-to-month</th>\n",
       "      <td>57.290323</td>\n",
       "      <td>42.709677</td>\n",
       "    </tr>\n",
       "    <tr>\n",
       "      <th>One year</th>\n",
       "      <td>88.730482</td>\n",
       "      <td>11.269518</td>\n",
       "    </tr>\n",
       "    <tr>\n",
       "      <th>Two year</th>\n",
       "      <td>97.168142</td>\n",
       "      <td>2.831858</td>\n",
       "    </tr>\n",
       "  </tbody>\n",
       "</table>\n",
       "</div>"
      ],
      "text/plain": [
       "Churn                  No        Yes\n",
       "Contract                            \n",
       "Month-to-month  57.290323  42.709677\n",
       "One year        88.730482  11.269518\n",
       "Two year        97.168142   2.831858"
      ]
     },
     "execution_count": 27,
     "metadata": {},
     "output_type": "execute_result"
    }
   ],
   "source": [
    "contract_churn = (data.groupby(['Contract','Churn'])['TotalCharges'].count()/data.groupby(['Contract'])['Churn'].count()*100).unstack()\n",
    "\n",
    "#plt.figure(figsize = (12, 6))\n",
    "contract_churn.plot(kind = 'bar', figsize = (12, 6), stacked = True)\n",
    "plt.xlabel('Contract',fontsize = 16)\n",
    "plt.ylabel('Count in %',fontsize = 16)\n",
    "plt.xticks(np.arange(0,4), rotation = 0, fontsize = 13)\n",
    "plt.yticks(fontsize = 13)\n",
    "plt.legend(title = 'Churn', fontsize = 12, title_fontsize = 13, shadow = True)\n",
    "plt.show()\n",
    "\n",
    "print()\n",
    "contract_churn"
   ]
  },
  {
   "cell_type": "markdown",
   "id": "otherwise-trace",
   "metadata": {},
   "source": [
    "#### The customers who churned were more likely to be on a 'Month-to-Month' contract."
   ]
  },
  {
   "cell_type": "code",
   "execution_count": 28,
   "id": "popular-palestinian",
   "metadata": {},
   "outputs": [
    {
     "data": {
      "image/png": "[encoded data removed]",
      "text/plain": [
       "<Figure size 864x432 with 1 Axes>"
      ]
     },
     "metadata": {},
     "output_type": "display_data"
    },
    {
     "name": "stdout",
     "output_type": "stream",
     "text": [
      "\n"
     ]
    },
    {
     "data": {
      "text/html": [
       "<div>\n",
       "<style scoped>\n",
       "    .dataframe tbody tr th:only-of-type {\n",
       "        vertical-align: middle;\n",
       "    }\n",
       "\n",
       "    .dataframe tbody tr th {\n",
       "        vertical-align: top;\n",
       "    }\n",
       "\n",
       "    .dataframe thead th {\n",
       "        text-align: right;\n",
       "    }\n",
       "</style>\n",
       "<table border=\"1\" class=\"dataframe\">\n",
       "  <thead>\n",
       "    <tr style=\"text-align: right;\">\n",
       "      <th>Churn</th>\n",
       "      <th>No</th>\n",
       "      <th>Yes</th>\n",
       "    </tr>\n",
       "    <tr>\n",
       "      <th>OnlineSecurity</th>\n",
       "      <th></th>\n",
       "      <th></th>\n",
       "    </tr>\n",
       "  </thead>\n",
       "  <tbody>\n",
       "    <tr>\n",
       "      <th>No</th>\n",
       "      <td>58.233276</td>\n",
       "      <td>41.766724</td>\n",
       "    </tr>\n",
       "    <tr>\n",
       "      <th>No internet service</th>\n",
       "      <td>92.595020</td>\n",
       "      <td>7.404980</td>\n",
       "    </tr>\n",
       "    <tr>\n",
       "      <th>Yes</th>\n",
       "      <td>85.388806</td>\n",
       "      <td>14.611194</td>\n",
       "    </tr>\n",
       "  </tbody>\n",
       "</table>\n",
       "</div>"
      ],
      "text/plain": [
       "Churn                       No        Yes\n",
       "OnlineSecurity                           \n",
       "No                   58.233276  41.766724\n",
       "No internet service  92.595020   7.404980\n",
       "Yes                  85.388806  14.611194"
      ]
     },
     "execution_count": 28,
     "metadata": {},
     "output_type": "execute_result"
    }
   ],
   "source": [
    "online_churn = (data.groupby(['OnlineSecurity','Churn'])['TotalCharges'].count()/data.groupby(['OnlineSecurity'])['Churn'].count()*100).unstack()\n",
    "\n",
    "#plt.figure(figsize = (12, 6))\n",
    "online_churn.plot(kind = 'bar', figsize = (12, 6), stacked = True, color = ['#e69900', '#b3003b'])\n",
    "plt.xlabel('Online Security',fontsize = 16)\n",
    "plt.ylabel('Count in %',fontsize = 16)\n",
    "plt.xticks(np.arange(0,4), rotation = 0, fontsize = 13)\n",
    "plt.yticks(fontsize = 13)\n",
    "plt.legend(title = 'Churn', fontsize = 12, title_fontsize = 13, shadow = True)\n",
    "plt.show()\n",
    "\n",
    "print()\n",
    "online_churn"
   ]
  },
  {
   "cell_type": "markdown",
   "id": "center-tuesday",
   "metadata": {},
   "source": [
    "#### The customers who were not subscribed to the 'Online Security' service churned the most."
   ]
  },
  {
   "cell_type": "code",
   "execution_count": 29,
   "id": "going-complement",
   "metadata": {},
   "outputs": [
    {
     "data": {
      "image/png": "[encoded data removed]",
      "text/plain": [
       "<Figure size 864x432 with 1 Axes>"
      ]
     },
     "metadata": {},
     "output_type": "display_data"
    },
    {
     "name": "stdout",
     "output_type": "stream",
     "text": [
      "\n"
     ]
    },
    {
     "data": {
      "text/html": [
       "<div>\n",
       "<style scoped>\n",
       "    .dataframe tbody tr th:only-of-type {\n",
       "        vertical-align: middle;\n",
       "    }\n",
       "\n",
       "    .dataframe tbody tr th {\n",
       "        vertical-align: top;\n",
       "    }\n",
       "\n",
       "    .dataframe thead th {\n",
       "        text-align: right;\n",
       "    }\n",
       "</style>\n",
       "<table border=\"1\" class=\"dataframe\">\n",
       "  <thead>\n",
       "    <tr style=\"text-align: right;\">\n",
       "      <th></th>\n",
       "      <th>Churn</th>\n",
       "      <th>No</th>\n",
       "      <th>Yes</th>\n",
       "    </tr>\n",
       "    <tr>\n",
       "      <th>PhoneService</th>\n",
       "      <th>MultipleLines</th>\n",
       "      <th></th>\n",
       "      <th></th>\n",
       "    </tr>\n",
       "  </thead>\n",
       "  <tbody>\n",
       "    <tr>\n",
       "      <th>No</th>\n",
       "      <th>No phone service</th>\n",
       "      <td>75.073314</td>\n",
       "      <td>24.926686</td>\n",
       "    </tr>\n",
       "    <tr>\n",
       "      <th rowspan=\"2\" valign=\"top\">Yes</th>\n",
       "      <th>No</th>\n",
       "      <td>74.955752</td>\n",
       "      <td>25.044248</td>\n",
       "    </tr>\n",
       "    <tr>\n",
       "      <th>Yes</th>\n",
       "      <td>71.390104</td>\n",
       "      <td>28.609896</td>\n",
       "    </tr>\n",
       "  </tbody>\n",
       "</table>\n",
       "</div>"
      ],
      "text/plain": [
       "Churn                                 No        Yes\n",
       "PhoneService MultipleLines                         \n",
       "No           No phone service  75.073314  24.926686\n",
       "Yes          No                74.955752  25.044248\n",
       "             Yes               71.390104  28.609896"
      ]
     },
     "execution_count": 29,
     "metadata": {},
     "output_type": "execute_result"
    }
   ],
   "source": [
    "phone_churn = (data.groupby(['PhoneService', 'MultipleLines', 'Churn'])['TotalCharges'].count()/data.groupby(['PhoneService', 'MultipleLines'])['Churn'].count()*100).unstack()\n",
    "\n",
    "#plt.figure(figsize = (12, 6))\n",
    "phone_churn.plot(kind = 'bar', figsize = (12, 6), stacked = True, color = ['#999966', '#b38600'])\n",
    "plt.xlabel('Phone Service & Multiple Lines',fontsize = 16)\n",
    "plt.ylabel('Count in %',fontsize = 16)\n",
    "plt.xticks(np.arange(0,4), rotation = 0, fontsize = 13)\n",
    "plt.yticks(fontsize = 13)\n",
    "plt.legend(title = 'Churn', fontsize = 12, title_fontsize = 13, shadow = True)\n",
    "plt.show()\n",
    "\n",
    "print()\n",
    "phone_churn"
   ]
  },
  {
   "cell_type": "markdown",
   "id": "induced-commander",
   "metadata": {},
   "source": [
    "#### 25% out of 682 customers who churned were not subscribed to 'Phone service'.\n",
    "\n",
    "#### 28% out of 2971 customers who churned were subscribed to 'Phone service' & were also subscribed to 'Multiple Line' telephone service."
   ]
  },
  {
   "cell_type": "markdown",
   "id": "tropical-latest",
   "metadata": {},
   "source": [
    "## Data Pre-processing"
   ]
  },
  {
   "cell_type": "code",
   "execution_count": 30,
   "id": "short-rwanda",
   "metadata": {
    "scrolled": false
   },
   "outputs": [
    {
     "data": {
      "text/html": [
       "<div>\n",
       "<style scoped>\n",
       "    .dataframe tbody tr th:only-of-type {\n",
       "        vertical-align: middle;\n",
       "    }\n",
       "\n",
       "    .dataframe tbody tr th {\n",
       "        vertical-align: top;\n",
       "    }\n",
       "\n",
       "    .dataframe thead th {\n",
       "        text-align: right;\n",
       "    }\n",
       "</style>\n",
       "<table border=\"1\" class=\"dataframe\">\n",
       "  <thead>\n",
       "    <tr style=\"text-align: right;\">\n",
       "      <th></th>\n",
       "      <th>customerID</th>\n",
       "      <th>gender</th>\n",
       "      <th>SeniorCitizen</th>\n",
       "      <th>Partner</th>\n",
       "      <th>Dependents</th>\n",
       "      <th>tenure</th>\n",
       "      <th>PhoneService</th>\n",
       "      <th>MultipleLines</th>\n",
       "      <th>InternetService</th>\n",
       "      <th>OnlineSecurity</th>\n",
       "      <th>OnlineBackup</th>\n",
       "      <th>DeviceProtection</th>\n",
       "      <th>TechSupport</th>\n",
       "      <th>StreamingTV</th>\n",
       "      <th>StreamingMovies</th>\n",
       "      <th>Contract</th>\n",
       "      <th>PaperlessBilling</th>\n",
       "      <th>PaymentMethod</th>\n",
       "      <th>MonthlyCharges</th>\n",
       "      <th>TotalCharges</th>\n",
       "      <th>Churn</th>\n",
       "    </tr>\n",
       "  </thead>\n",
       "  <tbody>\n",
       "    <tr>\n",
       "      <th>0</th>\n",
       "      <td>7590-VHVEG</td>\n",
       "      <td>Female</td>\n",
       "      <td>0</td>\n",
       "      <td>Yes</td>\n",
       "      <td>No</td>\n",
       "      <td>1</td>\n",
       "      <td>No</td>\n",
       "      <td>No phone service</td>\n",
       "      <td>DSL</td>\n",
       "      <td>No</td>\n",
       "      <td>Yes</td>\n",
       "      <td>No</td>\n",
       "      <td>No</td>\n",
       "      <td>No</td>\n",
       "      <td>No</td>\n",
       "      <td>Month-to-month</td>\n",
       "      <td>Yes</td>\n",
       "      <td>Electronic check</td>\n",
       "      <td>29.85</td>\n",
       "      <td>29.85</td>\n",
       "      <td>No</td>\n",
       "    </tr>\n",
       "    <tr>\n",
       "      <th>1</th>\n",
       "      <td>5575-GNVDE</td>\n",
       "      <td>Male</td>\n",
       "      <td>0</td>\n",
       "      <td>No</td>\n",
       "      <td>No</td>\n",
       "      <td>34</td>\n",
       "      <td>Yes</td>\n",
       "      <td>No</td>\n",
       "      <td>DSL</td>\n",
       "      <td>Yes</td>\n",
       "      <td>No</td>\n",
       "      <td>Yes</td>\n",
       "      <td>No</td>\n",
       "      <td>No</td>\n",
       "      <td>No</td>\n",
       "      <td>One year</td>\n",
       "      <td>No</td>\n",
       "      <td>Mailed check</td>\n",
       "      <td>56.95</td>\n",
       "      <td>1889.50</td>\n",
       "      <td>No</td>\n",
       "    </tr>\n",
       "    <tr>\n",
       "      <th>2</th>\n",
       "      <td>3668-QPYBK</td>\n",
       "      <td>Male</td>\n",
       "      <td>0</td>\n",
       "      <td>No</td>\n",
       "      <td>No</td>\n",
       "      <td>2</td>\n",
       "      <td>Yes</td>\n",
       "      <td>No</td>\n",
       "      <td>DSL</td>\n",
       "      <td>Yes</td>\n",
       "      <td>Yes</td>\n",
       "      <td>No</td>\n",
       "      <td>No</td>\n",
       "      <td>No</td>\n",
       "      <td>No</td>\n",
       "      <td>Month-to-month</td>\n",
       "      <td>Yes</td>\n",
       "      <td>Mailed check</td>\n",
       "      <td>53.85</td>\n",
       "      <td>108.15</td>\n",
       "      <td>Yes</td>\n",
       "    </tr>\n",
       "    <tr>\n",
       "      <th>3</th>\n",
       "      <td>7795-CFOCW</td>\n",
       "      <td>Male</td>\n",
       "      <td>0</td>\n",
       "      <td>No</td>\n",
       "      <td>No</td>\n",
       "      <td>45</td>\n",
       "      <td>No</td>\n",
       "      <td>No phone service</td>\n",
       "      <td>DSL</td>\n",
       "      <td>Yes</td>\n",
       "      <td>No</td>\n",
       "      <td>Yes</td>\n",
       "      <td>Yes</td>\n",
       "      <td>No</td>\n",
       "      <td>No</td>\n",
       "      <td>One year</td>\n",
       "      <td>No</td>\n",
       "      <td>Bank transfer (automatic)</td>\n",
       "      <td>42.30</td>\n",
       "      <td>1840.75</td>\n",
       "      <td>No</td>\n",
       "    </tr>\n",
       "    <tr>\n",
       "      <th>4</th>\n",
       "      <td>9237-HQITU</td>\n",
       "      <td>Female</td>\n",
       "      <td>0</td>\n",
       "      <td>No</td>\n",
       "      <td>No</td>\n",
       "      <td>2</td>\n",
       "      <td>Yes</td>\n",
       "      <td>No</td>\n",
       "      <td>Fiber optic</td>\n",
       "      <td>No</td>\n",
       "      <td>No</td>\n",
       "      <td>No</td>\n",
       "      <td>No</td>\n",
       "      <td>No</td>\n",
       "      <td>No</td>\n",
       "      <td>Month-to-month</td>\n",
       "      <td>Yes</td>\n",
       "      <td>Electronic check</td>\n",
       "      <td>70.70</td>\n",
       "      <td>151.65</td>\n",
       "      <td>Yes</td>\n",
       "    </tr>\n",
       "  </tbody>\n",
       "</table>\n",
       "</div>"
      ],
      "text/plain": [
       "   customerID  gender  SeniorCitizen Partner Dependents  tenure PhoneService  \\\n",
       "0  7590-VHVEG  Female              0     Yes         No       1           No   \n",
       "1  5575-GNVDE    Male              0      No         No      34          Yes   \n",
       "2  3668-QPYBK    Male              0      No         No       2          Yes   \n",
       "3  7795-CFOCW    Male              0      No         No      45           No   \n",
       "4  9237-HQITU  Female              0      No         No       2          Yes   \n",
       "\n",
       "      MultipleLines InternetService OnlineSecurity OnlineBackup  \\\n",
       "0  No phone service             DSL             No          Yes   \n",
       "1                No             DSL            Yes           No   \n",
       "2                No             DSL            Yes          Yes   \n",
       "3  No phone service             DSL            Yes           No   \n",
       "4                No     Fiber optic             No           No   \n",
       "\n",
       "  DeviceProtection TechSupport StreamingTV StreamingMovies        Contract  \\\n",
       "0               No          No          No              No  Month-to-month   \n",
       "1              Yes          No          No              No        One year   \n",
       "2               No          No          No              No  Month-to-month   \n",
       "3              Yes         Yes          No              No        One year   \n",
       "4               No          No          No              No  Month-to-month   \n",
       "\n",
       "  PaperlessBilling              PaymentMethod  MonthlyCharges  TotalCharges  \\\n",
       "0              Yes           Electronic check           29.85         29.85   \n",
       "1               No               Mailed check           56.95       1889.50   \n",
       "2              Yes               Mailed check           53.85        108.15   \n",
       "3               No  Bank transfer (automatic)           42.30       1840.75   \n",
       "4              Yes           Electronic check           70.70        151.65   \n",
       "\n",
       "  Churn  \n",
       "0    No  \n",
       "1    No  \n",
       "2   Yes  \n",
       "3    No  \n",
       "4   Yes  "
      ]
     },
     "execution_count": 30,
     "metadata": {},
     "output_type": "execute_result"
    }
   ],
   "source": [
    "# Check first 5 rows \n",
    "\n",
    "data.head(5)"
   ]
  },
  {
   "cell_type": "code",
   "execution_count": 31,
   "id": "correct-thesaurus",
   "metadata": {},
   "outputs": [],
   "source": [
    "# Drop 'customerID' feature as it containes unique ID\n",
    "\n",
    "data.drop(['customerID'], axis = 1, inplace = True)"
   ]
  },
  {
   "cell_type": "code",
   "execution_count": 32,
   "id": "multiple-pioneer",
   "metadata": {
    "scrolled": true
   },
   "outputs": [
    {
     "data": {
      "text/html": [
       "<div>\n",
       "<style scoped>\n",
       "    .dataframe tbody tr th:only-of-type {\n",
       "        vertical-align: middle;\n",
       "    }\n",
       "\n",
       "    .dataframe tbody tr th {\n",
       "        vertical-align: top;\n",
       "    }\n",
       "\n",
       "    .dataframe thead th {\n",
       "        text-align: right;\n",
       "    }\n",
       "</style>\n",
       "<table border=\"1\" class=\"dataframe\">\n",
       "  <thead>\n",
       "    <tr style=\"text-align: right;\">\n",
       "      <th></th>\n",
       "      <th>gender</th>\n",
       "      <th>SeniorCitizen</th>\n",
       "      <th>Partner</th>\n",
       "      <th>Dependents</th>\n",
       "      <th>tenure</th>\n",
       "      <th>PhoneService</th>\n",
       "      <th>MultipleLines</th>\n",
       "      <th>InternetService</th>\n",
       "      <th>OnlineSecurity</th>\n",
       "      <th>OnlineBackup</th>\n",
       "      <th>DeviceProtection</th>\n",
       "      <th>TechSupport</th>\n",
       "      <th>StreamingTV</th>\n",
       "      <th>StreamingMovies</th>\n",
       "      <th>Contract</th>\n",
       "      <th>PaperlessBilling</th>\n",
       "      <th>PaymentMethod</th>\n",
       "      <th>MonthlyCharges</th>\n",
       "      <th>TotalCharges</th>\n",
       "      <th>Churn</th>\n",
       "    </tr>\n",
       "  </thead>\n",
       "  <tbody>\n",
       "    <tr>\n",
       "      <th>0</th>\n",
       "      <td>Female</td>\n",
       "      <td>0</td>\n",
       "      <td>Yes</td>\n",
       "      <td>No</td>\n",
       "      <td>1</td>\n",
       "      <td>No</td>\n",
       "      <td>No phone service</td>\n",
       "      <td>DSL</td>\n",
       "      <td>No</td>\n",
       "      <td>Yes</td>\n",
       "      <td>No</td>\n",
       "      <td>No</td>\n",
       "      <td>No</td>\n",
       "      <td>No</td>\n",
       "      <td>Month-to-month</td>\n",
       "      <td>Yes</td>\n",
       "      <td>Electronic check</td>\n",
       "      <td>29.85</td>\n",
       "      <td>29.85</td>\n",
       "      <td>No</td>\n",
       "    </tr>\n",
       "    <tr>\n",
       "      <th>1</th>\n",
       "      <td>Male</td>\n",
       "      <td>0</td>\n",
       "      <td>No</td>\n",
       "      <td>No</td>\n",
       "      <td>34</td>\n",
       "      <td>Yes</td>\n",
       "      <td>No</td>\n",
       "      <td>DSL</td>\n",
       "      <td>Yes</td>\n",
       "      <td>No</td>\n",
       "      <td>Yes</td>\n",
       "      <td>No</td>\n",
       "      <td>No</td>\n",
       "      <td>No</td>\n",
       "      <td>One year</td>\n",
       "      <td>No</td>\n",
       "      <td>Mailed check</td>\n",
       "      <td>56.95</td>\n",
       "      <td>1889.50</td>\n",
       "      <td>No</td>\n",
       "    </tr>\n",
       "    <tr>\n",
       "      <th>2</th>\n",
       "      <td>Male</td>\n",
       "      <td>0</td>\n",
       "      <td>No</td>\n",
       "      <td>No</td>\n",
       "      <td>2</td>\n",
       "      <td>Yes</td>\n",
       "      <td>No</td>\n",
       "      <td>DSL</td>\n",
       "      <td>Yes</td>\n",
       "      <td>Yes</td>\n",
       "      <td>No</td>\n",
       "      <td>No</td>\n",
       "      <td>No</td>\n",
       "      <td>No</td>\n",
       "      <td>Month-to-month</td>\n",
       "      <td>Yes</td>\n",
       "      <td>Mailed check</td>\n",
       "      <td>53.85</td>\n",
       "      <td>108.15</td>\n",
       "      <td>Yes</td>\n",
       "    </tr>\n",
       "    <tr>\n",
       "      <th>3</th>\n",
       "      <td>Male</td>\n",
       "      <td>0</td>\n",
       "      <td>No</td>\n",
       "      <td>No</td>\n",
       "      <td>45</td>\n",
       "      <td>No</td>\n",
       "      <td>No phone service</td>\n",
       "      <td>DSL</td>\n",
       "      <td>Yes</td>\n",
       "      <td>No</td>\n",
       "      <td>Yes</td>\n",
       "      <td>Yes</td>\n",
       "      <td>No</td>\n",
       "      <td>No</td>\n",
       "      <td>One year</td>\n",
       "      <td>No</td>\n",
       "      <td>Bank transfer (automatic)</td>\n",
       "      <td>42.30</td>\n",
       "      <td>1840.75</td>\n",
       "      <td>No</td>\n",
       "    </tr>\n",
       "    <tr>\n",
       "      <th>4</th>\n",
       "      <td>Female</td>\n",
       "      <td>0</td>\n",
       "      <td>No</td>\n",
       "      <td>No</td>\n",
       "      <td>2</td>\n",
       "      <td>Yes</td>\n",
       "      <td>No</td>\n",
       "      <td>Fiber optic</td>\n",
       "      <td>No</td>\n",
       "      <td>No</td>\n",
       "      <td>No</td>\n",
       "      <td>No</td>\n",
       "      <td>No</td>\n",
       "      <td>No</td>\n",
       "      <td>Month-to-month</td>\n",
       "      <td>Yes</td>\n",
       "      <td>Electronic check</td>\n",
       "      <td>70.70</td>\n",
       "      <td>151.65</td>\n",
       "      <td>Yes</td>\n",
       "    </tr>\n",
       "  </tbody>\n",
       "</table>\n",
       "</div>"
      ],
      "text/plain": [
       "   gender  SeniorCitizen Partner Dependents  tenure PhoneService  \\\n",
       "0  Female              0     Yes         No       1           No   \n",
       "1    Male              0      No         No      34          Yes   \n",
       "2    Male              0      No         No       2          Yes   \n",
       "3    Male              0      No         No      45           No   \n",
       "4  Female              0      No         No       2          Yes   \n",
       "\n",
       "      MultipleLines InternetService OnlineSecurity OnlineBackup  \\\n",
       "0  No phone service             DSL             No          Yes   \n",
       "1                No             DSL            Yes           No   \n",
       "2                No             DSL            Yes          Yes   \n",
       "3  No phone service             DSL            Yes           No   \n",
       "4                No     Fiber optic             No           No   \n",
       "\n",
       "  DeviceProtection TechSupport StreamingTV StreamingMovies        Contract  \\\n",
       "0               No          No          No              No  Month-to-month   \n",
       "1              Yes          No          No              No        One year   \n",
       "2               No          No          No              No  Month-to-month   \n",
       "3              Yes         Yes          No              No        One year   \n",
       "4               No          No          No              No  Month-to-month   \n",
       "\n",
       "  PaperlessBilling              PaymentMethod  MonthlyCharges  TotalCharges  \\\n",
       "0              Yes           Electronic check           29.85         29.85   \n",
       "1               No               Mailed check           56.95       1889.50   \n",
       "2              Yes               Mailed check           53.85        108.15   \n",
       "3               No  Bank transfer (automatic)           42.30       1840.75   \n",
       "4              Yes           Electronic check           70.70        151.65   \n",
       "\n",
       "  Churn  \n",
       "0    No  \n",
       "1    No  \n",
       "2   Yes  \n",
       "3    No  \n",
       "4   Yes  "
      ]
     },
     "execution_count": 32,
     "metadata": {},
     "output_type": "execute_result"
    }
   ],
   "source": [
    "# Check first 5 rows after dropping 'customerID' feature\n",
    "\n",
    "data.head(5)"
   ]
  },
  {
   "cell_type": "code",
   "execution_count": 33,
   "id": "conceptual-roommate",
   "metadata": {},
   "outputs": [],
   "source": [
    "# Droping target variable to save the clean data for prediction \n",
    "\n",
    "new = data.drop('Churn', axis = 1)"
   ]
  },
  {
   "cell_type": "code",
   "execution_count": 34,
   "id": "2f58f5b5",
   "metadata": {},
   "outputs": [],
   "source": [
    "# Saving data to new csv file \n",
    "\n",
    "new.to_csv('clean_data.csv', index = False)"
   ]
  },
  {
   "cell_type": "code",
   "execution_count": 35,
   "id": "sensitive-recall",
   "metadata": {},
   "outputs": [],
   "source": [
    "# Scaling data\n",
    "\n",
    "# Create 'StandardScaler' object\n",
    "scaler = StandardScaler() \n",
    "\n",
    "# Fit & Transform scaled data\n",
    "data[['MonthlyCharges', 'TotalCharges']] = scaler.fit_transform(data[['MonthlyCharges', 'TotalCharges']])"
   ]
  },
  {
   "cell_type": "markdown",
   "id": "fifteen-opening",
   "metadata": {},
   "source": [
    "#### From the dataset, we can observe that many features are categorical. So before feeding these data to the model first we have to convert that categorical features to numerical features.\n",
    "\n",
    "#### There are many ways for converting categorical features to numerical features but here I have used 'One Hot Encoding'"
   ]
  },
  {
   "cell_type": "code",
   "execution_count": 36,
   "id": "superior-lightweight",
   "metadata": {},
   "outputs": [],
   "source": [
    "# Manually converting dependent feature to numeric\n",
    "\n",
    "data[\"Churn\"] = data['Churn'].replace({'No': 0, 'Yes': 1})"
   ]
  },
  {
   "cell_type": "code",
   "execution_count": 37,
   "id": "standard-preservation",
   "metadata": {},
   "outputs": [],
   "source": [
    "# Converting categorical features to numerical features\n",
    "\n",
    "data = pd.get_dummies(data, drop_first = True)"
   ]
  },
  {
   "cell_type": "code",
   "execution_count": 38,
   "id": "obvious-payday",
   "metadata": {},
   "outputs": [
    {
     "data": {
      "text/html": [
       "<div>\n",
       "<style scoped>\n",
       "    .dataframe tbody tr th:only-of-type {\n",
       "        vertical-align: middle;\n",
       "    }\n",
       "\n",
       "    .dataframe tbody tr th {\n",
       "        vertical-align: top;\n",
       "    }\n",
       "\n",
       "    .dataframe thead th {\n",
       "        text-align: right;\n",
       "    }\n",
       "</style>\n",
       "<table border=\"1\" class=\"dataframe\">\n",
       "  <thead>\n",
       "    <tr style=\"text-align: right;\">\n",
       "      <th></th>\n",
       "      <th>SeniorCitizen</th>\n",
       "      <th>tenure</th>\n",
       "      <th>MonthlyCharges</th>\n",
       "      <th>TotalCharges</th>\n",
       "      <th>Churn</th>\n",
       "      <th>gender_Male</th>\n",
       "      <th>Partner_Yes</th>\n",
       "      <th>Dependents_Yes</th>\n",
       "      <th>PhoneService_Yes</th>\n",
       "      <th>MultipleLines_No phone service</th>\n",
       "      <th>MultipleLines_Yes</th>\n",
       "      <th>InternetService_Fiber optic</th>\n",
       "      <th>InternetService_No</th>\n",
       "      <th>OnlineSecurity_No internet service</th>\n",
       "      <th>OnlineSecurity_Yes</th>\n",
       "      <th>OnlineBackup_No internet service</th>\n",
       "      <th>OnlineBackup_Yes</th>\n",
       "      <th>DeviceProtection_No internet service</th>\n",
       "      <th>DeviceProtection_Yes</th>\n",
       "      <th>TechSupport_No internet service</th>\n",
       "      <th>TechSupport_Yes</th>\n",
       "      <th>StreamingTV_No internet service</th>\n",
       "      <th>StreamingTV_Yes</th>\n",
       "      <th>StreamingMovies_No internet service</th>\n",
       "      <th>StreamingMovies_Yes</th>\n",
       "      <th>Contract_One year</th>\n",
       "      <th>Contract_Two year</th>\n",
       "      <th>PaperlessBilling_Yes</th>\n",
       "      <th>PaymentMethod_Credit card (automatic)</th>\n",
       "      <th>PaymentMethod_Electronic check</th>\n",
       "      <th>PaymentMethod_Mailed check</th>\n",
       "    </tr>\n",
       "  </thead>\n",
       "  <tbody>\n",
       "    <tr>\n",
       "      <th>0</th>\n",
       "      <td>0</td>\n",
       "      <td>1</td>\n",
       "      <td>-1.160323</td>\n",
       "      <td>-0.992611</td>\n",
       "      <td>0</td>\n",
       "      <td>0</td>\n",
       "      <td>1</td>\n",
       "      <td>0</td>\n",
       "      <td>0</td>\n",
       "      <td>1</td>\n",
       "      <td>0</td>\n",
       "      <td>0</td>\n",
       "      <td>0</td>\n",
       "      <td>0</td>\n",
       "      <td>0</td>\n",
       "      <td>0</td>\n",
       "      <td>1</td>\n",
       "      <td>0</td>\n",
       "      <td>0</td>\n",
       "      <td>0</td>\n",
       "      <td>0</td>\n",
       "      <td>0</td>\n",
       "      <td>0</td>\n",
       "      <td>0</td>\n",
       "      <td>0</td>\n",
       "      <td>0</td>\n",
       "      <td>0</td>\n",
       "      <td>1</td>\n",
       "      <td>0</td>\n",
       "      <td>1</td>\n",
       "      <td>0</td>\n",
       "    </tr>\n",
       "    <tr>\n",
       "      <th>1</th>\n",
       "      <td>0</td>\n",
       "      <td>34</td>\n",
       "      <td>-0.259629</td>\n",
       "      <td>-0.172165</td>\n",
       "      <td>0</td>\n",
       "      <td>1</td>\n",
       "      <td>0</td>\n",
       "      <td>0</td>\n",
       "      <td>1</td>\n",
       "      <td>0</td>\n",
       "      <td>0</td>\n",
       "      <td>0</td>\n",
       "      <td>0</td>\n",
       "      <td>0</td>\n",
       "      <td>1</td>\n",
       "      <td>0</td>\n",
       "      <td>0</td>\n",
       "      <td>0</td>\n",
       "      <td>1</td>\n",
       "      <td>0</td>\n",
       "      <td>0</td>\n",
       "      <td>0</td>\n",
       "      <td>0</td>\n",
       "      <td>0</td>\n",
       "      <td>0</td>\n",
       "      <td>1</td>\n",
       "      <td>0</td>\n",
       "      <td>0</td>\n",
       "      <td>0</td>\n",
       "      <td>0</td>\n",
       "      <td>1</td>\n",
       "    </tr>\n",
       "    <tr>\n",
       "      <th>2</th>\n",
       "      <td>0</td>\n",
       "      <td>2</td>\n",
       "      <td>-0.362660</td>\n",
       "      <td>-0.958066</td>\n",
       "      <td>1</td>\n",
       "      <td>1</td>\n",
       "      <td>0</td>\n",
       "      <td>0</td>\n",
       "      <td>1</td>\n",
       "      <td>0</td>\n",
       "      <td>0</td>\n",
       "      <td>0</td>\n",
       "      <td>0</td>\n",
       "      <td>0</td>\n",
       "      <td>1</td>\n",
       "      <td>0</td>\n",
       "      <td>1</td>\n",
       "      <td>0</td>\n",
       "      <td>0</td>\n",
       "      <td>0</td>\n",
       "      <td>0</td>\n",
       "      <td>0</td>\n",
       "      <td>0</td>\n",
       "      <td>0</td>\n",
       "      <td>0</td>\n",
       "      <td>0</td>\n",
       "      <td>0</td>\n",
       "      <td>1</td>\n",
       "      <td>0</td>\n",
       "      <td>0</td>\n",
       "      <td>1</td>\n",
       "    </tr>\n",
       "    <tr>\n",
       "      <th>3</th>\n",
       "      <td>0</td>\n",
       "      <td>45</td>\n",
       "      <td>-0.746535</td>\n",
       "      <td>-0.193672</td>\n",
       "      <td>0</td>\n",
       "      <td>1</td>\n",
       "      <td>0</td>\n",
       "      <td>0</td>\n",
       "      <td>0</td>\n",
       "      <td>1</td>\n",
       "      <td>0</td>\n",
       "      <td>0</td>\n",
       "      <td>0</td>\n",
       "      <td>0</td>\n",
       "      <td>1</td>\n",
       "      <td>0</td>\n",
       "      <td>0</td>\n",
       "      <td>0</td>\n",
       "      <td>1</td>\n",
       "      <td>0</td>\n",
       "      <td>1</td>\n",
       "      <td>0</td>\n",
       "      <td>0</td>\n",
       "      <td>0</td>\n",
       "      <td>0</td>\n",
       "      <td>1</td>\n",
       "      <td>0</td>\n",
       "      <td>0</td>\n",
       "      <td>0</td>\n",
       "      <td>0</td>\n",
       "      <td>0</td>\n",
       "    </tr>\n",
       "    <tr>\n",
       "      <th>4</th>\n",
       "      <td>0</td>\n",
       "      <td>2</td>\n",
       "      <td>0.197365</td>\n",
       "      <td>-0.938874</td>\n",
       "      <td>1</td>\n",
       "      <td>0</td>\n",
       "      <td>0</td>\n",
       "      <td>0</td>\n",
       "      <td>1</td>\n",
       "      <td>0</td>\n",
       "      <td>0</td>\n",
       "      <td>1</td>\n",
       "      <td>0</td>\n",
       "      <td>0</td>\n",
       "      <td>0</td>\n",
       "      <td>0</td>\n",
       "      <td>0</td>\n",
       "      <td>0</td>\n",
       "      <td>0</td>\n",
       "      <td>0</td>\n",
       "      <td>0</td>\n",
       "      <td>0</td>\n",
       "      <td>0</td>\n",
       "      <td>0</td>\n",
       "      <td>0</td>\n",
       "      <td>0</td>\n",
       "      <td>0</td>\n",
       "      <td>1</td>\n",
       "      <td>0</td>\n",
       "      <td>1</td>\n",
       "      <td>0</td>\n",
       "    </tr>\n",
       "  </tbody>\n",
       "</table>\n",
       "</div>"
      ],
      "text/plain": [
       "   SeniorCitizen  tenure  MonthlyCharges  TotalCharges  Churn  gender_Male  \\\n",
       "0              0       1       -1.160323     -0.992611      0            0   \n",
       "1              0      34       -0.259629     -0.172165      0            1   \n",
       "2              0       2       -0.362660     -0.958066      1            1   \n",
       "3              0      45       -0.746535     -0.193672      0            1   \n",
       "4              0       2        0.197365     -0.938874      1            0   \n",
       "\n",
       "   Partner_Yes  Dependents_Yes  PhoneService_Yes  \\\n",
       "0            1               0                 0   \n",
       "1            0               0                 1   \n",
       "2            0               0                 1   \n",
       "3            0               0                 0   \n",
       "4            0               0                 1   \n",
       "\n",
       "   MultipleLines_No phone service  MultipleLines_Yes  \\\n",
       "0                               1                  0   \n",
       "1                               0                  0   \n",
       "2                               0                  0   \n",
       "3                               1                  0   \n",
       "4                               0                  0   \n",
       "\n",
       "   InternetService_Fiber optic  InternetService_No  \\\n",
       "0                            0                   0   \n",
       "1                            0                   0   \n",
       "2                            0                   0   \n",
       "3                            0                   0   \n",
       "4                            1                   0   \n",
       "\n",
       "   OnlineSecurity_No internet service  OnlineSecurity_Yes  \\\n",
       "0                                   0                   0   \n",
       "1                                   0                   1   \n",
       "2                                   0                   1   \n",
       "3                                   0                   1   \n",
       "4                                   0                   0   \n",
       "\n",
       "   OnlineBackup_No internet service  OnlineBackup_Yes  \\\n",
       "0                                 0                 1   \n",
       "1                                 0                 0   \n",
       "2                                 0                 1   \n",
       "3                                 0                 0   \n",
       "4                                 0                 0   \n",
       "\n",
       "   DeviceProtection_No internet service  DeviceProtection_Yes  \\\n",
       "0                                     0                     0   \n",
       "1                                     0                     1   \n",
       "2                                     0                     0   \n",
       "3                                     0                     1   \n",
       "4                                     0                     0   \n",
       "\n",
       "   TechSupport_No internet service  TechSupport_Yes  \\\n",
       "0                                0                0   \n",
       "1                                0                0   \n",
       "2                                0                0   \n",
       "3                                0                1   \n",
       "4                                0                0   \n",
       "\n",
       "   StreamingTV_No internet service  StreamingTV_Yes  \\\n",
       "0                                0                0   \n",
       "1                                0                0   \n",
       "2                                0                0   \n",
       "3                                0                0   \n",
       "4                                0                0   \n",
       "\n",
       "   StreamingMovies_No internet service  StreamingMovies_Yes  \\\n",
       "0                                    0                    0   \n",
       "1                                    0                    0   \n",
       "2                                    0                    0   \n",
       "3                                    0                    0   \n",
       "4                                    0                    0   \n",
       "\n",
       "   Contract_One year  Contract_Two year  PaperlessBilling_Yes  \\\n",
       "0                  0                  0                     1   \n",
       "1                  1                  0                     0   \n",
       "2                  0                  0                     1   \n",
       "3                  1                  0                     0   \n",
       "4                  0                  0                     1   \n",
       "\n",
       "   PaymentMethod_Credit card (automatic)  PaymentMethod_Electronic check  \\\n",
       "0                                      0                               1   \n",
       "1                                      0                               0   \n",
       "2                                      0                               0   \n",
       "3                                      0                               0   \n",
       "4                                      0                               1   \n",
       "\n",
       "   PaymentMethod_Mailed check  \n",
       "0                           0  \n",
       "1                           1  \n",
       "2                           1  \n",
       "3                           0  \n",
       "4                           0  "
      ]
     },
     "execution_count": 38,
     "metadata": {},
     "output_type": "execute_result"
    }
   ],
   "source": [
    "data.head(5)"
   ]
  },
  {
   "cell_type": "code",
   "execution_count": 39,
   "id": "compliant-ecuador",
   "metadata": {
    "scrolled": false
   },
   "outputs": [],
   "source": [
    "# Splitting Independent & Dependent Fetaures \n",
    "\n",
    "X = data.drop('Churn', axis = 1)\n",
    "y = data['Churn']"
   ]
  },
  {
   "cell_type": "code",
   "execution_count": 41,
   "id": "fourth-vertex",
   "metadata": {},
   "outputs": [],
   "source": [
    "# Creating SMOTE object\n",
    "smn = SMOTEENN(random_state = 5)\n",
    "\n",
    "# Creating sample data\n",
    "X, y = smn.fit_resample(X, y)"
   ]
  },
  {
   "cell_type": "code",
   "execution_count": 42,
   "id": "likely-distinction",
   "metadata": {},
   "outputs": [
    {
     "name": "stdout",
     "output_type": "stream",
     "text": [
      "Shape of oversampled training data : (6736, 30)\n",
      "Number of loyal customers : 2634\n",
      "Number of churned customers : 4102\n"
     ]
    }
   ],
   "source": [
    "print('Shape of oversampled training data :', X.shape)\n",
    "\n",
    "print('Number of loyal customers :', len(y[y == 0]))\n",
    "\n",
    "print('Number of churned customers :', len(y[y == 1]))"
   ]
  },
  {
   "cell_type": "code",
   "execution_count": 43,
   "id": "civilian-secondary",
   "metadata": {},
   "outputs": [],
   "source": [
    "# Splitting dataset for training & testing\n",
    "\n",
    "X_train, X_test, y_train, y_test = train_test_split(X, y, test_size = 0.20, random_state = 1)"
   ]
  },
  {
   "cell_type": "code",
   "execution_count": 44,
   "id": "circular-approach",
   "metadata": {},
   "outputs": [
    {
     "name": "stdout",
     "output_type": "stream",
     "text": [
      "Shape of training data : (5388, 30)\n",
      "\n",
      "Shape of testing data : (1348, 30)\n"
     ]
    }
   ],
   "source": [
    "print('Shape of training data :', X_train.shape)\n",
    "\n",
    "print('\\nShape of testing data :', X_test.shape)"
   ]
  },
  {
   "cell_type": "markdown",
   "id": "metropolitan-replacement",
   "metadata": {},
   "source": [
    "## Model Building"
   ]
  },
  {
   "cell_type": "markdown",
   "id": "rapid-meditation",
   "metadata": {},
   "source": [
    "### 1) Logistic Regression"
   ]
  },
  {
   "cell_type": "code",
   "execution_count": 45,
   "id": "vietnamese-armstrong",
   "metadata": {
    "scrolled": false
   },
   "outputs": [
    {
     "name": "stdout",
     "output_type": "stream",
     "text": [
      "Test Accuracy: 92.7 %\n"
     ]
    }
   ],
   "source": [
    "# Create a Logistic Regresssion object\n",
    "log = LogisticRegression(solver = 'newton-cg')\n",
    "\n",
    "# Train the model\n",
    "log.fit(X_train, y_train)\n",
    "\n",
    "# Predict on test data\n",
    "log_pred = log.predict(X_test)\n",
    "\n",
    "print('Test Accuracy: {} %'.format(log.score(X_test, y_test).round(3)*100))"
   ]
  },
  {
   "cell_type": "code",
   "execution_count": 46,
   "id": "spare-horizon",
   "metadata": {
    "scrolled": true
   },
   "outputs": [
    {
     "name": "stdout",
     "output_type": "stream",
     "text": [
      "Confusion Matrix:\n",
      "\n",
      "[[459  64]\n",
      " [ 34 791]]\n"
     ]
    }
   ],
   "source": [
    "print('Confusion Matrix:\\n')\n",
    "print(confusion_matrix(y_test, log_pred))"
   ]
  },
  {
   "cell_type": "code",
   "execution_count": 47,
   "id": "mexican-white",
   "metadata": {
    "scrolled": false
   },
   "outputs": [
    {
     "name": "stdout",
     "output_type": "stream",
     "text": [
      "              precision    recall  f1-score   support\n",
      "\n",
      "           0       0.93      0.88      0.90       523\n",
      "           1       0.93      0.96      0.94       825\n",
      "\n",
      "    accuracy                           0.93      1348\n",
      "   macro avg       0.93      0.92      0.92      1348\n",
      "weighted avg       0.93      0.93      0.93      1348\n",
      "\n"
     ]
    }
   ],
   "source": [
    "print(classification_report(y_test, log_pred))"
   ]
  },
  {
   "cell_type": "code",
   "execution_count": 48,
   "id": "removed-antibody",
   "metadata": {
    "scrolled": true
   },
   "outputs": [
    {
     "data": {
      "image/png": "[encoded data removed]",
      "text/plain": [
       "<Figure size 432x288 with 1 Axes>"
      ]
     },
     "metadata": {},
     "output_type": "display_data"
    }
   ],
   "source": [
    "plot_roc_curve(log, X_test, y_test)  \n",
    "plt.show()"
   ]
  },
  {
   "cell_type": "markdown",
   "id": "quality-gregory",
   "metadata": {},
   "source": [
    "### 2) KNN (K-Nearest Neighbour)"
   ]
  },
  {
   "cell_type": "code",
   "execution_count": 49,
   "id": "voluntary-wings",
   "metadata": {
    "scrolled": false
   },
   "outputs": [
    {
     "name": "stdout",
     "output_type": "stream",
     "text": [
      "Test Accuracy: 94.3 %\n"
     ]
    }
   ],
   "source": [
    "# Create a KNN object\n",
    "knn = KNeighborsClassifier()\n",
    "\n",
    "# Train the model\n",
    "knn.fit(X_train, y_train)\n",
    "\n",
    "# Predict on test data\n",
    "knn_pred = knn.predict(X_test)\n",
    "\n",
    "print('Test Accuracy: {} %'.format(knn.score(X_test, y_test).round(3)*100))"
   ]
  },
  {
   "cell_type": "code",
   "execution_count": 50,
   "id": "distant-battlefield",
   "metadata": {},
   "outputs": [
    {
     "name": "stdout",
     "output_type": "stream",
     "text": [
      "Confusion Matrix:\n",
      "[[456  67]\n",
      " [ 10 815]]\n"
     ]
    }
   ],
   "source": [
    "print('Confusion Matrix:')\n",
    "print(confusion_matrix(y_test, knn_pred))"
   ]
  },
  {
   "cell_type": "code",
   "execution_count": 51,
   "id": "objective-canon",
   "metadata": {
    "scrolled": true
   },
   "outputs": [
    {
     "name": "stdout",
     "output_type": "stream",
     "text": [
      "              precision    recall  f1-score   support\n",
      "\n",
      "           0       0.98      0.87      0.92       523\n",
      "           1       0.92      0.99      0.95       825\n",
      "\n",
      "    accuracy                           0.94      1348\n",
      "   macro avg       0.95      0.93      0.94      1348\n",
      "weighted avg       0.95      0.94      0.94      1348\n",
      "\n"
     ]
    }
   ],
   "source": [
    "print(classification_report(y_test, knn_pred))"
   ]
  },
  {
   "cell_type": "code",
   "execution_count": 52,
   "id": "adopted-moore",
   "metadata": {
    "scrolled": true
   },
   "outputs": [
    {
     "data": {
      "image/png": "[encoded data removed]",
      "text/plain": [
       "<Figure size 432x288 with 1 Axes>"
      ]
     },
     "metadata": {},
     "output_type": "display_data"
    }
   ],
   "source": [
    "plot_roc_curve(knn, X_test, y_test)  \n",
    "plt.show()"
   ]
  },
  {
   "cell_type": "markdown",
   "id": "colored-north",
   "metadata": {},
   "source": [
    "### 3) SVM (Support Vector Machine)"
   ]
  },
  {
   "cell_type": "code",
   "execution_count": 53,
   "id": "voluntary-retirement",
   "metadata": {
    "scrolled": true
   },
   "outputs": [
    {
     "name": "stdout",
     "output_type": "stream",
     "text": [
      "Test Accuracy: 90.4 %\n"
     ]
    }
   ],
   "source": [
    "# Create a SVM object\n",
    "svc = SVC()\n",
    "\n",
    "# Train the model\n",
    "svc.fit(X_train, y_train)\n",
    "\n",
    "# Predict on test data\n",
    "svc_pred = svc.predict(X_test)\n",
    "\n",
    "print('Test Accuracy: {} %'.format(svc.score(X_test, y_test).round(3)*100))"
   ]
  },
  {
   "cell_type": "code",
   "execution_count": 54,
   "id": "upper-laser",
   "metadata": {},
   "outputs": [
    {
     "name": "stdout",
     "output_type": "stream",
     "text": [
      "Confusion Matrix:\n",
      "[[436  87]\n",
      " [ 42 783]]\n"
     ]
    }
   ],
   "source": [
    "print('Confusion Matrix:')\n",
    "print(confusion_matrix(y_test, svc_pred))"
   ]
  },
  {
   "cell_type": "code",
   "execution_count": 55,
   "id": "southern-stream",
   "metadata": {
    "scrolled": true
   },
   "outputs": [
    {
     "name": "stdout",
     "output_type": "stream",
     "text": [
      "              precision    recall  f1-score   support\n",
      "\n",
      "           0       0.91      0.83      0.87       523\n",
      "           1       0.90      0.95      0.92       825\n",
      "\n",
      "    accuracy                           0.90      1348\n",
      "   macro avg       0.91      0.89      0.90      1348\n",
      "weighted avg       0.90      0.90      0.90      1348\n",
      "\n"
     ]
    }
   ],
   "source": [
    "print(classification_report(y_test, svc_pred))"
   ]
  },
  {
   "cell_type": "code",
   "execution_count": 56,
   "id": "reported-catch",
   "metadata": {
    "scrolled": true
   },
   "outputs": [
    {
     "data": {
      "image/png": "[encoded data removed]",
      "text/plain": [
       "<Figure size 432x288 with 1 Axes>"
      ]
     },
     "metadata": {},
     "output_type": "display_data"
    }
   ],
   "source": [
    "plot_roc_curve(svc, X_test, y_test)  \n",
    "plt.show()"
   ]
  },
  {
   "cell_type": "markdown",
   "id": "polished-stupid",
   "metadata": {},
   "source": [
    "### 4) Decision Tree"
   ]
  },
  {
   "cell_type": "code",
   "execution_count": 57,
   "id": "spiritual-american",
   "metadata": {
    "scrolled": true
   },
   "outputs": [
    {
     "name": "stdout",
     "output_type": "stream",
     "text": [
      "Test Accuracy: 92.80000000000001 %\n"
     ]
    }
   ],
   "source": [
    "# Create a decision tree object\n",
    "tree = DecisionTreeClassifier(criterion='gini', max_depth=6, min_samples_leaf=8)\n",
    "\n",
    "# Train the model\n",
    "tree.fit(X_train, y_train)\n",
    "\n",
    "# Predict on test data\n",
    "tree_pred = tree.predict(X_test)\n",
    "\n",
    "print('Test Accuracy: {} %'.format(tree.score(X_test, y_test).round(3)*100))"
   ]
  },
  {
   "cell_type": "code",
   "execution_count": 58,
   "id": "gothic-pledge",
   "metadata": {},
   "outputs": [
    {
     "name": "stdout",
     "output_type": "stream",
     "text": [
      "Confusion Matrix:\n",
      "[[462  61]\n",
      " [ 36 789]]\n"
     ]
    }
   ],
   "source": [
    "print('Confusion Matrix:')\n",
    "print(confusion_matrix(y_test, tree_pred))"
   ]
  },
  {
   "cell_type": "code",
   "execution_count": 59,
   "id": "massive-north",
   "metadata": {
    "scrolled": true
   },
   "outputs": [
    {
     "name": "stdout",
     "output_type": "stream",
     "text": [
      "              precision    recall  f1-score   support\n",
      "\n",
      "           0       0.93      0.88      0.90       523\n",
      "           1       0.93      0.96      0.94       825\n",
      "\n",
      "    accuracy                           0.93      1348\n",
      "   macro avg       0.93      0.92      0.92      1348\n",
      "weighted avg       0.93      0.93      0.93      1348\n",
      "\n"
     ]
    }
   ],
   "source": [
    "print(classification_report(y_test, tree_pred))"
   ]
  },
  {
   "cell_type": "code",
   "execution_count": 60,
   "id": "least-pleasure",
   "metadata": {
    "scrolled": true
   },
   "outputs": [
    {
     "data": {
      "image/png": "[encoded data removed]",
      "text/plain": [
       "<Figure size 432x288 with 1 Axes>"
      ]
     },
     "metadata": {},
     "output_type": "display_data"
    }
   ],
   "source": [
    "plot_roc_curve(tree, X_test, y_test)  \n",
    "plt.show()"
   ]
  },
  {
   "cell_type": "markdown",
   "id": "objective-relief",
   "metadata": {},
   "source": [
    "### 5) Random Forest "
   ]
  },
  {
   "cell_type": "code",
   "execution_count": 61,
   "id": "damaged-remove",
   "metadata": {
    "scrolled": true
   },
   "outputs": [
    {
     "name": "stdout",
     "output_type": "stream",
     "text": [
      "Test Accuracy: 95.39999999999999 %\n"
     ]
    }
   ],
   "source": [
    "# Create a random forest object\n",
    "randm = RandomForestClassifier()\n",
    "\n",
    "# Train the model\n",
    "randm.fit(X_train, y_train)\n",
    "\n",
    "# Predict on test data\n",
    "randm_pred = randm.predict(X_test)\n",
    "\n",
    "print('Test Accuracy: {} %'.format(randm.score(X_test, y_test).round(3)*100))"
   ]
  },
  {
   "cell_type": "code",
   "execution_count": 62,
   "id": "comprehensive-capacity",
   "metadata": {},
   "outputs": [
    {
     "name": "stdout",
     "output_type": "stream",
     "text": [
      "Confusion Matrix:\n",
      "[[477  46]\n",
      " [ 16 809]]\n"
     ]
    }
   ],
   "source": [
    "print('Confusion Matrix:')\n",
    "print(confusion_matrix(y_test, randm_pred))"
   ]
  },
  {
   "cell_type": "code",
   "execution_count": 63,
   "id": "angry-herald",
   "metadata": {
    "scrolled": true
   },
   "outputs": [
    {
     "name": "stdout",
     "output_type": "stream",
     "text": [
      "              precision    recall  f1-score   support\n",
      "\n",
      "           0       0.97      0.91      0.94       523\n",
      "           1       0.95      0.98      0.96       825\n",
      "\n",
      "    accuracy                           0.95      1348\n",
      "   macro avg       0.96      0.95      0.95      1348\n",
      "weighted avg       0.95      0.95      0.95      1348\n",
      "\n"
     ]
    }
   ],
   "source": [
    "print(classification_report(y_test, randm_pred))"
   ]
  },
  {
   "cell_type": "code",
   "execution_count": 64,
   "id": "pediatric-alberta",
   "metadata": {
    "scrolled": true
   },
   "outputs": [
    {
     "data": {
      "image/png": "[encoded data removed]",
      "text/plain": [
       "<Figure size 432x288 with 1 Axes>"
      ]
     },
     "metadata": {},
     "output_type": "display_data"
    }
   ],
   "source": [
    "plot_roc_curve(randm, X_test, y_test)  \n",
    "plt.show()"
   ]
  },
  {
   "cell_type": "markdown",
   "id": "mexican-means",
   "metadata": {},
   "source": [
    "### Hyperparameter Tuning"
   ]
  },
  {
   "cell_type": "code",
   "execution_count": 65,
   "id": "comfortable-violence",
   "metadata": {},
   "outputs": [],
   "source": [
    "# Different parameter for tuning\n",
    "\n",
    "params = {'n_estimators': [i for i in range(100, 1100, 100)],\n",
    "         'max_depth': [i for i in range(5, 105, 10)],\n",
    "         'max_features': ['auto', 'sqrt'],\n",
    "         }"
   ]
  },
  {
   "cell_type": "code",
   "execution_count": 66,
   "id": "numerous-batman",
   "metadata": {},
   "outputs": [
    {
     "name": "stdout",
     "output_type": "stream",
     "text": [
      "0.9606527442579968\n",
      "{'n_estimators': 600, 'max_features': 'auto', 'max_depth': 45}\n"
     ]
    }
   ],
   "source": [
    "randmcv = RandomizedSearchCV(randm, params, random_state = 2, n_jobs = -1)\n",
    "\n",
    "# Train the model\n",
    "randmcv.fit(X_train, y_train)\n",
    "\n",
    "print(randmcv.best_score_)\n",
    "print(randmcv.best_params_)"
   ]
  },
  {
   "cell_type": "code",
   "execution_count": 67,
   "id": "first-rally",
   "metadata": {},
   "outputs": [
    {
     "name": "stdout",
     "output_type": "stream",
     "text": [
      "Test Accuracy: 95.3 %\n"
     ]
    }
   ],
   "source": [
    "# Create a random forest object with hyperparameters\n",
    "randm_hy = RandomForestClassifier(n_estimators = 600, max_features = 'auto', max_depth = 45)\n",
    "\n",
    "# Train the model\n",
    "randm_hy.fit(X_train, y_train)\n",
    "\n",
    "# Predict on test data\n",
    "randm_hy_pred = randm_hy.predict(X_test)\n",
    "\n",
    "print('Test Accuracy: {} %'.format(randm_hy.score(X_test, y_test).round(3)*100))"
   ]
  },
  {
   "cell_type": "code",
   "execution_count": 68,
   "id": "distinct-december",
   "metadata": {
    "scrolled": true
   },
   "outputs": [
    {
     "name": "stdout",
     "output_type": "stream",
     "text": [
      "Confusion Matrix:\n",
      "[[475  48]\n",
      " [ 16 809]]\n"
     ]
    }
   ],
   "source": [
    "print('Confusion Matrix:')\n",
    "print(confusion_matrix(y_test, randm_hy_pred))"
   ]
  },
  {
   "cell_type": "markdown",
   "id": "quantitative-walker",
   "metadata": {},
   "source": [
    "### Cross Validation"
   ]
  },
  {
   "cell_type": "code",
   "execution_count": 69,
   "id": "operational-compact",
   "metadata": {},
   "outputs": [],
   "source": [
    "score = cross_val_score(randm_hy, X, y, cv = 10)"
   ]
  },
  {
   "cell_type": "code",
   "execution_count": 70,
   "id": "honey-internet",
   "metadata": {
    "scrolled": true
   },
   "outputs": [
    {
     "name": "stdout",
     "output_type": "stream",
     "text": [
      "The average accuracy of the model is\u001b[1m 96.1 %\u001b[0m\n"
     ]
    }
   ],
   "source": [
    "print('The average accuracy of the model is'  + \"\\033[1m\" + ' {} %'.format((score.mean().round(3))*100) + \"\\033[0m\")"
   ]
  },
  {
   "cell_type": "markdown",
   "id": "deluxe-vegetarian",
   "metadata": {},
   "source": [
    "### Saving model"
   ]
  },
  {
   "cell_type": "code",
   "execution_count": 71,
   "id": "general-tribune",
   "metadata": {},
   "outputs": [],
   "source": [
    "import pickle"
   ]
  },
  {
   "cell_type": "code",
   "execution_count": 72,
   "id": "purple-uruguay",
   "metadata": {},
   "outputs": [],
   "source": [
    "# file = open('rf_model.pkl', 'wb')\n",
    "\n",
    "# pickle.dump(randm_hy, file)\n",
    "# file.close()"
   ]
  }
 ],
 "metadata": {
  "kernelspec": {
   "display_name": "Python 3 (ipykernel)",
   "language": "python",
   "name": "python3"
  },
  "language_info": {
   "codemirror_mode": {
    "name": "ipython",
    "version": 3
   },
   "file_extension": ".py",
   "mimetype": "text/x-python",
   "name": "python",
   "nbconvert_exporter": "python",
   "pygments_lexer": "ipython3",
   "version": "3.7.11"
  }
 },
 "nbformat": 4,
 "nbformat_minor": 5
}
